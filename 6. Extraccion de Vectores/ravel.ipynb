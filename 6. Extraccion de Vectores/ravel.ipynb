{
 "cells": [
  {
   "cell_type": "markdown",
   "metadata": {},
   "source": [
    "## Vectores Caracteristicos"
   ]
  },
  {
   "cell_type": "code",
   "execution_count": 1,
   "metadata": {},
   "outputs": [],
   "source": [
    "%matplotlib inline\n",
    "import cv2\n",
    "from matplotlib import pyplot as plt\n",
    "import pandas as pd\n",
    "import numpy as np\n",
    "import os"
   ]
  },
  {
   "cell_type": "code",
   "execution_count": 2,
   "metadata": {},
   "outputs": [
    {
     "data": {
      "text/plain": [
       "200"
      ]
     },
     "execution_count": 2,
     "metadata": {},
     "output_type": "execute_result"
    }
   ],
   "source": [
    "imagenes = os.listdir('../rostros_grises/')\n",
    "len(imagenes)"
   ]
  },
  {
   "cell_type": "code",
   "execution_count": 3,
   "metadata": {},
   "outputs": [
    {
     "data": {
      "text/plain": [
       "'/home/noe/Documentos/Computacion-Grafica/6. Extraccion de Vectores'"
      ]
     },
     "execution_count": 3,
     "metadata": {},
     "output_type": "execute_result"
    }
   ],
   "source": [
    "os.getcwd()"
   ]
  },
  {
   "cell_type": "code",
   "execution_count": 4,
   "metadata": {},
   "outputs": [],
   "source": [
    "def extraeVector(image):\n",
    "    img = cv2.imread(image)\n",
    "    cv_gray = cv2.cvtColor(img,cv2.COLOR_BGR2GRAY)\n",
    "    return cv_gray.ravel()"
   ]
  },
  {
   "cell_type": "code",
   "execution_count": 21,
   "metadata": {
    "scrolled": true
   },
   "outputs": [],
   "source": [
    "arr = []\n",
    "for image in imagenes:\n",
    "    vec = extraeVector('../rostros_grises/'+image)\n",
    "    arr.append(list(vec))"
   ]
  },
  {
   "cell_type": "code",
   "execution_count": 22,
   "metadata": {},
   "outputs": [
    {
     "data": {
      "text/plain": [
       "list"
      ]
     },
     "execution_count": 22,
     "metadata": {},
     "output_type": "execute_result"
    }
   ],
   "source": [
    "type(arr)"
   ]
  },
  {
   "cell_type": "code",
   "execution_count": 23,
   "metadata": {},
   "outputs": [
    {
     "data": {
      "text/plain": [
       "200"
      ]
     },
     "execution_count": 23,
     "metadata": {},
     "output_type": "execute_result"
    }
   ],
   "source": [
    "len(arr)"
   ]
  },
  {
   "cell_type": "code",
   "execution_count": 27,
   "metadata": {},
   "outputs": [
    {
     "data": {
      "text/plain": [
       "62500"
      ]
     },
     "execution_count": 27,
     "metadata": {},
     "output_type": "execute_result"
    }
   ],
   "source": [
    "len(arr[2])"
   ]
  },
  {
   "cell_type": "markdown",
   "metadata": {},
   "source": [
    "## PCA"
   ]
  },
  {
   "cell_type": "code",
   "execution_count": 11,
   "metadata": {},
   "outputs": [],
   "source": [
    "from sklearn.decomposition import PCA"
   ]
  },
  {
   "cell_type": "code",
   "execution_count": 31,
   "metadata": {},
   "outputs": [],
   "source": [
    "pca = PCA(n_components=10)\n",
    "principalComponentes = pca.fit_transform(arr)"
   ]
  },
  {
   "cell_type": "code",
   "execution_count": 33,
   "metadata": {},
   "outputs": [
    {
     "data": {
      "text/html": [
       "<div>\n",
       "<style scoped>\n",
       "    .dataframe tbody tr th:only-of-type {\n",
       "        vertical-align: middle;\n",
       "    }\n",
       "\n",
       "    .dataframe tbody tr th {\n",
       "        vertical-align: top;\n",
       "    }\n",
       "\n",
       "    .dataframe thead th {\n",
       "        text-align: right;\n",
       "    }\n",
       "</style>\n",
       "<table border=\"1\" class=\"dataframe\">\n",
       "  <thead>\n",
       "    <tr style=\"text-align: right;\">\n",
       "      <th></th>\n",
       "      <th>comp1</th>\n",
       "      <th>comp2</th>\n",
       "      <th>comp3</th>\n",
       "      <th>comp4</th>\n",
       "      <th>comp5</th>\n",
       "      <th>comp6</th>\n",
       "      <th>comp7</th>\n",
       "      <th>comp8</th>\n",
       "      <th>comp9</th>\n",
       "      <th>comp10</th>\n",
       "    </tr>\n",
       "  </thead>\n",
       "  <tbody>\n",
       "    <tr>\n",
       "      <th>0</th>\n",
       "      <td>-52.071943</td>\n",
       "      <td>5759.436860</td>\n",
       "      <td>2090.636529</td>\n",
       "      <td>4768.108065</td>\n",
       "      <td>3128.259387</td>\n",
       "      <td>-7333.316296</td>\n",
       "      <td>-1156.958135</td>\n",
       "      <td>9351.534939</td>\n",
       "      <td>1438.055377</td>\n",
       "      <td>1706.902850</td>\n",
       "    </tr>\n",
       "    <tr>\n",
       "      <th>1</th>\n",
       "      <td>-9093.781683</td>\n",
       "      <td>-527.517144</td>\n",
       "      <td>1915.699014</td>\n",
       "      <td>-675.978185</td>\n",
       "      <td>623.198654</td>\n",
       "      <td>-771.249315</td>\n",
       "      <td>496.425308</td>\n",
       "      <td>2490.718228</td>\n",
       "      <td>2802.188382</td>\n",
       "      <td>196.013836</td>\n",
       "    </tr>\n",
       "    <tr>\n",
       "      <th>2</th>\n",
       "      <td>-2845.853141</td>\n",
       "      <td>2194.608947</td>\n",
       "      <td>-1940.474207</td>\n",
       "      <td>7132.486867</td>\n",
       "      <td>2026.157532</td>\n",
       "      <td>-2923.471556</td>\n",
       "      <td>-2906.810492</td>\n",
       "      <td>-1938.669231</td>\n",
       "      <td>2589.836640</td>\n",
       "      <td>-2450.398645</td>\n",
       "    </tr>\n",
       "    <tr>\n",
       "      <th>3</th>\n",
       "      <td>7593.864688</td>\n",
       "      <td>-1474.290270</td>\n",
       "      <td>-2049.300904</td>\n",
       "      <td>3353.844328</td>\n",
       "      <td>4756.201622</td>\n",
       "      <td>-3618.307632</td>\n",
       "      <td>504.669349</td>\n",
       "      <td>840.124398</td>\n",
       "      <td>-303.112514</td>\n",
       "      <td>-10.642564</td>\n",
       "    </tr>\n",
       "    <tr>\n",
       "      <th>4</th>\n",
       "      <td>2864.115885</td>\n",
       "      <td>-1348.012078</td>\n",
       "      <td>-1541.030801</td>\n",
       "      <td>606.217367</td>\n",
       "      <td>1229.492875</td>\n",
       "      <td>1331.444445</td>\n",
       "      <td>-3660.025342</td>\n",
       "      <td>-253.245430</td>\n",
       "      <td>63.645419</td>\n",
       "      <td>-1282.053269</td>\n",
       "    </tr>\n",
       "  </tbody>\n",
       "</table>\n",
       "</div>"
      ],
      "text/plain": [
       "         comp1        comp2        comp3        comp4        comp5  \\\n",
       "0   -52.071943  5759.436860  2090.636529  4768.108065  3128.259387   \n",
       "1 -9093.781683  -527.517144  1915.699014  -675.978185   623.198654   \n",
       "2 -2845.853141  2194.608947 -1940.474207  7132.486867  2026.157532   \n",
       "3  7593.864688 -1474.290270 -2049.300904  3353.844328  4756.201622   \n",
       "4  2864.115885 -1348.012078 -1541.030801   606.217367  1229.492875   \n",
       "\n",
       "         comp6        comp7        comp8        comp9       comp10  \n",
       "0 -7333.316296 -1156.958135  9351.534939  1438.055377  1706.902850  \n",
       "1  -771.249315   496.425308  2490.718228  2802.188382   196.013836  \n",
       "2 -2923.471556 -2906.810492 -1938.669231  2589.836640 -2450.398645  \n",
       "3 -3618.307632   504.669349   840.124398  -303.112514   -10.642564  \n",
       "4  1331.444445 -3660.025342  -253.245430    63.645419 -1282.053269  "
      ]
     },
     "execution_count": 33,
     "metadata": {},
     "output_type": "execute_result"
    }
   ],
   "source": [
    "data = pd.DataFrame(data=principalComponentes,\n",
    "                   columns=[\"comp1\",\"comp2\",\"comp3\",\"comp4\",\"comp5\",\n",
    "                            \"comp6\",\"comp7\",\"comp8\",\"comp9\",\"comp10\"])\n",
    "data.head()"
   ]
  },
  {
   "cell_type": "code",
   "execution_count": 34,
   "metadata": {},
   "outputs": [
    {
     "data": {
      "text/plain": [
       "(200, 10)"
      ]
     },
     "execution_count": 34,
     "metadata": {},
     "output_type": "execute_result"
    }
   ],
   "source": [
    "data.shape"
   ]
  },
  {
   "cell_type": "code",
   "execution_count": 35,
   "metadata": {},
   "outputs": [
    {
     "data": {
      "text/html": [
       "<div>\n",
       "<style scoped>\n",
       "    .dataframe tbody tr th:only-of-type {\n",
       "        vertical-align: middle;\n",
       "    }\n",
       "\n",
       "    .dataframe tbody tr th {\n",
       "        vertical-align: top;\n",
       "    }\n",
       "\n",
       "    .dataframe thead th {\n",
       "        text-align: right;\n",
       "    }\n",
       "</style>\n",
       "<table border=\"1\" class=\"dataframe\">\n",
       "  <thead>\n",
       "    <tr style=\"text-align: right;\">\n",
       "      <th></th>\n",
       "      <th>comp1</th>\n",
       "      <th>comp2</th>\n",
       "      <th>comp3</th>\n",
       "      <th>comp4</th>\n",
       "      <th>comp5</th>\n",
       "      <th>comp6</th>\n",
       "      <th>comp7</th>\n",
       "      <th>comp8</th>\n",
       "      <th>comp9</th>\n",
       "      <th>comp10</th>\n",
       "      <th>imagen</th>\n",
       "    </tr>\n",
       "  </thead>\n",
       "  <tbody>\n",
       "    <tr>\n",
       "      <th>0</th>\n",
       "      <td>-52.071943</td>\n",
       "      <td>5759.436860</td>\n",
       "      <td>2090.636529</td>\n",
       "      <td>4768.108065</td>\n",
       "      <td>3128.259387</td>\n",
       "      <td>-7333.316296</td>\n",
       "      <td>-1156.958135</td>\n",
       "      <td>9351.534939</td>\n",
       "      <td>1438.055377</td>\n",
       "      <td>1706.902850</td>\n",
       "      <td>Ahmad_Masood_0001.jpg</td>\n",
       "    </tr>\n",
       "    <tr>\n",
       "      <th>1</th>\n",
       "      <td>-9093.781683</td>\n",
       "      <td>-527.517144</td>\n",
       "      <td>1915.699014</td>\n",
       "      <td>-675.978185</td>\n",
       "      <td>623.198654</td>\n",
       "      <td>-771.249315</td>\n",
       "      <td>496.425308</td>\n",
       "      <td>2490.718228</td>\n",
       "      <td>2802.188382</td>\n",
       "      <td>196.013836</td>\n",
       "      <td>Adam_Kennedy_0001.jpg</td>\n",
       "    </tr>\n",
       "    <tr>\n",
       "      <th>2</th>\n",
       "      <td>-2845.853141</td>\n",
       "      <td>2194.608947</td>\n",
       "      <td>-1940.474207</td>\n",
       "      <td>7132.486867</td>\n",
       "      <td>2026.157532</td>\n",
       "      <td>-2923.471556</td>\n",
       "      <td>-2906.810492</td>\n",
       "      <td>-1938.669231</td>\n",
       "      <td>2589.836640</td>\n",
       "      <td>-2450.398645</td>\n",
       "      <td>Adrien_Brody_0004.jpg</td>\n",
       "    </tr>\n",
       "    <tr>\n",
       "      <th>3</th>\n",
       "      <td>7593.864688</td>\n",
       "      <td>-1474.290270</td>\n",
       "      <td>-2049.300904</td>\n",
       "      <td>3353.844328</td>\n",
       "      <td>4756.201622</td>\n",
       "      <td>-3618.307632</td>\n",
       "      <td>504.669349</td>\n",
       "      <td>840.124398</td>\n",
       "      <td>-303.112514</td>\n",
       "      <td>-10.642564</td>\n",
       "      <td>Abdullah_Gul_0006.jpg</td>\n",
       "    </tr>\n",
       "    <tr>\n",
       "      <th>4</th>\n",
       "      <td>2864.115885</td>\n",
       "      <td>-1348.012078</td>\n",
       "      <td>-1541.030801</td>\n",
       "      <td>606.217367</td>\n",
       "      <td>1229.492875</td>\n",
       "      <td>1331.444445</td>\n",
       "      <td>-3660.025342</td>\n",
       "      <td>-253.245430</td>\n",
       "      <td>63.645419</td>\n",
       "      <td>-1282.053269</td>\n",
       "      <td>Ai_Sugiyama_0003.jpg</td>\n",
       "    </tr>\n",
       "  </tbody>\n",
       "</table>\n",
       "</div>"
      ],
      "text/plain": [
       "         comp1        comp2        comp3        comp4        comp5  \\\n",
       "0   -52.071943  5759.436860  2090.636529  4768.108065  3128.259387   \n",
       "1 -9093.781683  -527.517144  1915.699014  -675.978185   623.198654   \n",
       "2 -2845.853141  2194.608947 -1940.474207  7132.486867  2026.157532   \n",
       "3  7593.864688 -1474.290270 -2049.300904  3353.844328  4756.201622   \n",
       "4  2864.115885 -1348.012078 -1541.030801   606.217367  1229.492875   \n",
       "\n",
       "         comp6        comp7        comp8        comp9       comp10  \\\n",
       "0 -7333.316296 -1156.958135  9351.534939  1438.055377  1706.902850   \n",
       "1  -771.249315   496.425308  2490.718228  2802.188382   196.013836   \n",
       "2 -2923.471556 -2906.810492 -1938.669231  2589.836640 -2450.398645   \n",
       "3 -3618.307632   504.669349   840.124398  -303.112514   -10.642564   \n",
       "4  1331.444445 -3660.025342  -253.245430    63.645419 -1282.053269   \n",
       "\n",
       "                  imagen  \n",
       "0  Ahmad_Masood_0001.jpg  \n",
       "1  Adam_Kennedy_0001.jpg  \n",
       "2  Adrien_Brody_0004.jpg  \n",
       "3  Abdullah_Gul_0006.jpg  \n",
       "4   Ai_Sugiyama_0003.jpg  "
      ]
     },
     "execution_count": 35,
     "metadata": {},
     "output_type": "execute_result"
    }
   ],
   "source": [
    "data[\"imagen\"]=imagenes\n",
    "data.head()"
   ]
  },
  {
   "cell_type": "code",
   "execution_count": null,
   "metadata": {},
   "outputs": [],
   "source": []
  }
 ],
 "metadata": {
  "kernelspec": {
   "display_name": "Python 3",
   "language": "python",
   "name": "python3"
  },
  "language_info": {
   "codemirror_mode": {
    "name": "ipython",
    "version": 3
   },
   "file_extension": ".py",
   "mimetype": "text/x-python",
   "name": "python",
   "nbconvert_exporter": "python",
   "pygments_lexer": "ipython3",
   "version": "3.7.3"
  }
 },
 "nbformat": 4,
 "nbformat_minor": 2
}
