{
 "cells": [
  {
   "cell_type": "code",
   "execution_count": 1,
   "metadata": {},
   "outputs": [],
   "source": [
    "import os"
   ]
  },
  {
   "cell_type": "code",
   "execution_count": 10,
   "metadata": {},
   "outputs": [
    {
     "data": {
      "text/plain": [
       "3"
      ]
     },
     "execution_count": 10,
     "metadata": {},
     "output_type": "execute_result"
    }
   ],
   "source": [
    "len(os.listdir(\"../rostros/Natalie_Cole\"))"
   ]
  },
  {
   "cell_type": "code",
   "execution_count": 16,
   "metadata": {},
   "outputs": [
    {
     "data": {
      "text/plain": [
       "'/home/noe/Documentos/Computacion-Grafica/6. Extraccion de Vectores'"
      ]
     },
     "execution_count": 16,
     "metadata": {},
     "output_type": "execute_result"
    }
   ],
   "source": [
    "cwd_ini = os.getcwd()\n",
    "cwd_ini"
   ]
  },
  {
   "cell_type": "code",
   "execution_count": 37,
   "metadata": {},
   "outputs": [],
   "source": [
    "lista = []\n",
    "for carpeta in os.listdir(\"/home/noe/Documentos/Computacion-Grafica/rostros/\")[:200]:\n",
    "    sub = os.listdir(\"/home/noe/Documentos/Computacion-Grafica/rostros/\"+carpeta)\n",
    "    for rostro in sub:\n",
    "        lista.append(\"/home/noe/Documentos/Computacion-Grafica/rostros/\"+caperta+\"/\"+rostro)"
   ]
  },
  {
   "cell_type": "code",
   "execution_count": 38,
   "metadata": {},
   "outputs": [
    {
     "data": {
      "text/plain": [
       "(['/home/noe/Documentos/Computacion-Grafica/rostros/Natalie_Cole/Natalie_Cole_0002.jpg',\n",
       "  '/home/noe/Documentos/Computacion-Grafica/rostros/Natalie_Cole/Natalie_Cole_0001.jpg',\n",
       "  '/home/noe/Documentos/Computacion-Grafica/rostros/Natalie_Cole/Natalie_Cole_0003.jpg',\n",
       "  '/home/noe/Documentos/Computacion-Grafica/rostros/Natalie_Cole/Faisal_Iqbal_0001.jpg',\n",
       "  '/home/noe/Documentos/Computacion-Grafica/rostros/Natalie_Cole/Jim_Calhoun_0001.jpg'],\n",
       " 480)"
      ]
     },
     "execution_count": 38,
     "metadata": {},
     "output_type": "execute_result"
    }
   ],
   "source": [
    "lista[:5],len(lista)"
   ]
  },
  {
   "cell_type": "code",
   "execution_count": 17,
   "metadata": {},
   "outputs": [],
   "source": [
    "os.chdir(\"../\")"
   ]
  },
  {
   "cell_type": "code",
   "execution_count": 39,
   "metadata": {},
   "outputs": [
    {
     "data": {
      "text/plain": [
       "['.ipynb_checkpoints',\n",
       " 'rostros',\n",
       " '4. Bordes',\n",
       " '5. Histograma',\n",
       " '2. Operaciones Puntuales',\n",
       " '1. Introduccion a OpenCV',\n",
       " 'README.md',\n",
       " '6. Extraccion de Vectores',\n",
       " '3. Filtros',\n",
       " 'rostros_grises',\n",
       " '.git']"
      ]
     },
     "execution_count": 39,
     "metadata": {},
     "output_type": "execute_result"
    }
   ],
   "source": [
    "os.listdir()"
   ]
  },
  {
   "cell_type": "code",
   "execution_count": 20,
   "metadata": {},
   "outputs": [],
   "source": [
    "import cv2"
   ]
  },
  {
   "cell_type": "code",
   "execution_count": 43,
   "metadata": {},
   "outputs": [],
   "source": [
    "def graycolor(img):\n",
    "    image = cv2.imread(img)\n",
    "    cv_gray = cv2.cvtColor(image,cv2.COLOR_BGR2GRAY)\n",
    "    return cv_gray"
   ]
  },
  {
   "cell_type": "code",
   "execution_count": 55,
   "metadata": {},
   "outputs": [],
   "source": [
    "#os.mkdir(\"rostros_grises\")\n",
    "path = \"/home/noe/Documentos/Computacion-Grafica/rostros_grises/\"\n",
    "for img in lista[2:]: #solo 300 imagenes\n",
    "    try:\n",
    "        gray = graycolor(img)\n",
    "        cv2.imwrite(os.path.join(path , img.split(\"/\")[-1]), gray)\n",
    "        cv2.waitKey(0)\n",
    "    except:\n",
    "        continue"
   ]
  },
  {
   "cell_type": "code",
   "execution_count": 56,
   "metadata": {},
   "outputs": [
    {
     "data": {
      "text/plain": [
       "3"
      ]
     },
     "execution_count": 56,
     "metadata": {},
     "output_type": "execute_result"
    }
   ],
   "source": [
    "len(os.listdir(path))"
   ]
  },
  {
   "cell_type": "code",
   "execution_count": 42,
   "metadata": {},
   "outputs": [
    {
     "data": {
      "text/plain": [
       "array([[241, 241, 241, ..., 234, 234, 234],\n",
       "       [241, 241, 241, ..., 234, 234, 234],\n",
       "       [241, 241, 241, ..., 234, 234, 234],\n",
       "       ...,\n",
       "       [200, 196, 190, ..., 156, 157, 157],\n",
       "       [199, 197, 200, ..., 154, 155, 155],\n",
       "       [200, 198, 201, ..., 154, 155, 155]], dtype=uint8)"
      ]
     },
     "execution_count": 42,
     "metadata": {},
     "output_type": "execute_result"
    }
   ],
   "source": [
    "graycolor(\"/home/noe/Documentos/Computacion-Grafica/rostros/Natalie_Cole/Natalie_Cole_0002.jpg\")"
   ]
  },
  {
   "cell_type": "code",
   "execution_count": 51,
   "metadata": {},
   "outputs": [
    {
     "ename": "error",
     "evalue": "OpenCV(3.4.2) /io/opencv/modules/imgproc/src/color.hpp:253: error: (-215:Assertion failed) VScn::contains(scn) && VDcn::contains(dcn) && VDepth::contains(depth) in function 'CvtHelper'\n",
     "output_type": "error",
     "traceback": [
      "\u001b[0;31m---------------------------------------------------------------------------\u001b[0m",
      "\u001b[0;31merror\u001b[0m                                     Traceback (most recent call last)",
      "\u001b[0;32m<ipython-input-51-be47b465d342>\u001b[0m in \u001b[0;36m<module>\u001b[0;34m\u001b[0m\n\u001b[0;32m----> 1\u001b[0;31m \u001b[0mgraycolor\u001b[0m\u001b[0;34m(\u001b[0m\u001b[0;34m\"/home/noe/Documentos/Computacion-Grafica/rostros/Natalie_Cole/Faisal_Iqbal_0001.jpg\"\u001b[0m\u001b[0;34m)\u001b[0m\u001b[0;34m\u001b[0m\u001b[0;34m\u001b[0m\u001b[0m\n\u001b[0m",
      "\u001b[0;32m<ipython-input-43-75ef32eb9508>\u001b[0m in \u001b[0;36mgraycolor\u001b[0;34m(img)\u001b[0m\n\u001b[1;32m      1\u001b[0m \u001b[0;32mdef\u001b[0m \u001b[0mgraycolor\u001b[0m\u001b[0;34m(\u001b[0m\u001b[0mimg\u001b[0m\u001b[0;34m)\u001b[0m\u001b[0;34m:\u001b[0m\u001b[0;34m\u001b[0m\u001b[0;34m\u001b[0m\u001b[0m\n\u001b[1;32m      2\u001b[0m     \u001b[0mimage\u001b[0m \u001b[0;34m=\u001b[0m \u001b[0mcv2\u001b[0m\u001b[0;34m.\u001b[0m\u001b[0mimread\u001b[0m\u001b[0;34m(\u001b[0m\u001b[0mimg\u001b[0m\u001b[0;34m)\u001b[0m\u001b[0;34m\u001b[0m\u001b[0;34m\u001b[0m\u001b[0m\n\u001b[0;32m----> 3\u001b[0;31m     \u001b[0mcv_gray\u001b[0m \u001b[0;34m=\u001b[0m \u001b[0mcv2\u001b[0m\u001b[0;34m.\u001b[0m\u001b[0mcvtColor\u001b[0m\u001b[0;34m(\u001b[0m\u001b[0mimage\u001b[0m\u001b[0;34m,\u001b[0m\u001b[0mcv2\u001b[0m\u001b[0;34m.\u001b[0m\u001b[0mCOLOR_BGR2GRAY\u001b[0m\u001b[0;34m)\u001b[0m\u001b[0;34m\u001b[0m\u001b[0;34m\u001b[0m\u001b[0m\n\u001b[0m\u001b[1;32m      4\u001b[0m     \u001b[0;32mreturn\u001b[0m \u001b[0mcv_gray\u001b[0m\u001b[0;34m\u001b[0m\u001b[0;34m\u001b[0m\u001b[0m\n",
      "\u001b[0;31merror\u001b[0m: OpenCV(3.4.2) /io/opencv/modules/imgproc/src/color.hpp:253: error: (-215:Assertion failed) VScn::contains(scn) && VDcn::contains(dcn) && VDepth::contains(depth) in function 'CvtHelper'\n"
     ]
    }
   ],
   "source": [
    "graycolor(\"/home/noe/Documentos/Computacion-Grafica/rostros/Natalie_Cole/Faisal_Iqbal_0001.jpg\")"
   ]
  },
  {
   "cell_type": "code",
   "execution_count": null,
   "metadata": {},
   "outputs": [],
   "source": []
  }
 ],
 "metadata": {
  "kernelspec": {
   "display_name": "Python 3",
   "language": "python",
   "name": "python3"
  },
  "language_info": {
   "codemirror_mode": {
    "name": "ipython",
    "version": 3
   },
   "file_extension": ".py",
   "mimetype": "text/x-python",
   "name": "python",
   "nbconvert_exporter": "python",
   "pygments_lexer": "ipython3",
   "version": "3.7.3"
  }
 },
 "nbformat": 4,
 "nbformat_minor": 2
}
