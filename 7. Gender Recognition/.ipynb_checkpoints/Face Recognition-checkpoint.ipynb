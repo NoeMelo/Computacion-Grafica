{
 "cells": [
  {
   "cell_type": "code",
   "execution_count": 1,
   "metadata": {},
   "outputs": [],
   "source": [
    "%matplotlib inline\n",
    "import cv2\n",
    "from matplotlib import pyplot as plt\n",
    "import numpy as np\n",
    "import pandas as pd\n",
    "import os"
   ]
  },
  {
   "cell_type": "markdown",
   "metadata": {},
   "source": [
    "## 1. Escala de grises"
   ]
  },
  {
   "cell_type": "code",
   "execution_count": 3,
   "metadata": {},
   "outputs": [],
   "source": [
    "def graycolor(img):\n",
    "    image = cv2.imread(img)\n",
    "    cv_gray = cv2.cvtColor(image,cv2.COLOR_BGR2GRAY)\n",
    "    return cv_gray"
   ]
  },
  {
   "cell_type": "markdown",
   "metadata": {},
   "source": [
    "### Mujeres"
   ]
  },
  {
   "cell_type": "code",
   "execution_count": 9,
   "metadata": {},
   "outputs": [],
   "source": [
    "f_carpetas = os.listdir('faces/female')"
   ]
  },
  {
   "cell_type": "code",
   "execution_count": 42,
   "metadata": {},
   "outputs": [],
   "source": [
    "os.mkdir(\"EG_F\")"
   ]
  },
  {
   "cell_type": "code",
   "execution_count": 43,
   "metadata": {},
   "outputs": [],
   "source": [
    "path = \"EG_F/\"\n",
    "for carp in f_carpetas:\n",
    "    sub = os.listdir('faces/female/'+carp)\n",
    "    for img in sub:\n",
    "        file = 'faces/female/'+carp+\"/\"+img\n",
    "        try:\n",
    "            gray = graycolor(file)\n",
    "            cv2.imwrite(os.path.join(path , img), gray)\n",
    "            cv2.waitKey(0)\n",
    "        except:\n",
    "            continue"
   ]
  },
  {
   "cell_type": "code",
   "execution_count": 45,
   "metadata": {},
   "outputs": [
    {
     "data": {
      "text/plain": [
       "399"
      ]
     },
     "execution_count": 45,
     "metadata": {},
     "output_type": "execute_result"
    }
   ],
   "source": [
    "len(os.listdir(\"EG_F\"))"
   ]
  },
  {
   "cell_type": "markdown",
   "metadata": {},
   "source": [
    "### Hombres"
   ]
  },
  {
   "cell_type": "code",
   "execution_count": 4,
   "metadata": {},
   "outputs": [
    {
     "data": {
      "text/plain": [
       "113"
      ]
     },
     "execution_count": 4,
     "metadata": {},
     "output_type": "execute_result"
    }
   ],
   "source": [
    "m_carpetas = os.listdir('faces/male')\n",
    "len(m_carpetas)"
   ]
  },
  {
   "cell_type": "code",
   "execution_count": 51,
   "metadata": {},
   "outputs": [],
   "source": [
    "aleatorio = []\n",
    "while len(aleatorio) <20:\n",
    "    num = np.random.randint(113)\n",
    "    if num in aleatorio:\n",
    "        continue\n",
    "    else:\n",
    "        aleatorio.append(num)"
   ]
  },
  {
   "cell_type": "code",
   "execution_count": 52,
   "metadata": {},
   "outputs": [
    {
     "data": {
      "text/plain": [
       "20"
      ]
     },
     "execution_count": 52,
     "metadata": {},
     "output_type": "execute_result"
    }
   ],
   "source": [
    "len(aleatorio)"
   ]
  },
  {
   "cell_type": "code",
   "execution_count": 53,
   "metadata": {},
   "outputs": [],
   "source": [
    "os.mkdir(\"EG_M\")"
   ]
  },
  {
   "cell_type": "code",
   "execution_count": 54,
   "metadata": {},
   "outputs": [],
   "source": [
    "path = \"EG_M/\"\n",
    "for i in aleatorio:\n",
    "    carp = 'faces/male/'+ m_carpetas[i]\n",
    "    sub = os.listdir(carp)\n",
    "    for img in sub:\n",
    "        file = carp+\"/\"+img\n",
    "        try:\n",
    "            gray = graycolor(file)\n",
    "            cv2.imwrite(os.path.join(path , img), gray)\n",
    "            cv2.waitKey(0)\n",
    "            #print(file)\n",
    "        except:\n",
    "            continue"
   ]
  },
  {
   "cell_type": "code",
   "execution_count": 55,
   "metadata": {},
   "outputs": [
    {
     "data": {
      "text/plain": [
       "400"
      ]
     },
     "execution_count": 55,
     "metadata": {},
     "output_type": "execute_result"
    }
   ],
   "source": [
    "len(os.listdir(\"EG_M\"))"
   ]
  },
  {
   "cell_type": "markdown",
   "metadata": {},
   "source": [
    "## 2. Extraer Vectores Caracteristicos"
   ]
  },
  {
   "cell_type": "markdown",
   "metadata": {},
   "source": [
    "### 2.1 Concatenar\n",
    "\n",
    "En un vector para M y F"
   ]
  },
  {
   "cell_type": "code",
   "execution_count": 10,
   "metadata": {},
   "outputs": [],
   "source": [
    "def extraeVector(image):\n",
    "    img = cv2.imread(image)\n",
    "    cv_gray = cv2.cvtColor(img,cv2.COLOR_BGR2GRAY)\n",
    "    return list(cv_gray.ravel())"
   ]
  },
  {
   "cell_type": "code",
   "execution_count": 11,
   "metadata": {},
   "outputs": [
    {
     "data": {
      "text/plain": [
       "['.ipynb_checkpoints', 'EG_F', 'EG_M', 'Face Recognition.ipynb', 'faces']"
      ]
     },
     "execution_count": 11,
     "metadata": {},
     "output_type": "execute_result"
    }
   ],
   "source": [
    "os.listdir()"
   ]
  },
  {
   "cell_type": "markdown",
   "metadata": {},
   "source": [
    "#### Mujeses"
   ]
  },
  {
   "cell_type": "code",
   "execution_count": 4,
   "metadata": {},
   "outputs": [
    {
     "data": {
      "text/plain": [
       "399"
      ]
     },
     "execution_count": 4,
     "metadata": {},
     "output_type": "execute_result"
    }
   ],
   "source": [
    "mujeres = os.listdir(\"EG_F\")\n",
    "len(mujeres)"
   ]
  },
  {
   "cell_type": "code",
   "execution_count": 14,
   "metadata": {},
   "outputs": [],
   "source": [
    "female = []\n",
    "for image in mujeres:\n",
    "    vec = extraeVector('EG_F/'+image)\n",
    "    female.append(vec)"
   ]
  },
  {
   "cell_type": "code",
   "execution_count": 18,
   "metadata": {},
   "outputs": [
    {
     "data": {
      "text/plain": [
       "(399, 36000)"
      ]
     },
     "execution_count": 18,
     "metadata": {},
     "output_type": "execute_result"
    }
   ],
   "source": [
    "female = np.array(female)\n",
    "female.shape"
   ]
  },
  {
   "cell_type": "markdown",
   "metadata": {},
   "source": [
    "#### Hoombres"
   ]
  },
  {
   "cell_type": "code",
   "execution_count": 3,
   "metadata": {},
   "outputs": [
    {
     "data": {
      "text/plain": [
       "399"
      ]
     },
     "execution_count": 3,
     "metadata": {},
     "output_type": "execute_result"
    }
   ],
   "source": [
    "hombres = os.listdir(\"EG_M\")[:-1]\n",
    "len(hombres)"
   ]
  },
  {
   "cell_type": "code",
   "execution_count": 24,
   "metadata": {},
   "outputs": [],
   "source": [
    "male = []\n",
    "for image in hombres:\n",
    "    vec = extraeVector('EG_M/'+image)\n",
    "    male.append(vec)"
   ]
  },
  {
   "cell_type": "code",
   "execution_count": 25,
   "metadata": {},
   "outputs": [
    {
     "data": {
      "text/plain": [
       "(399, 36000)"
      ]
     },
     "execution_count": 25,
     "metadata": {},
     "output_type": "execute_result"
    }
   ],
   "source": [
    "male = np.array(male)\n",
    "male.shape"
   ]
  },
  {
   "cell_type": "markdown",
   "metadata": {},
   "source": [
    "#### 2.1.1 PCA"
   ]
  },
  {
   "cell_type": "code",
   "execution_count": 26,
   "metadata": {},
   "outputs": [],
   "source": [
    "from sklearn.decomposition import PCA"
   ]
  },
  {
   "cell_type": "code",
   "execution_count": 27,
   "metadata": {},
   "outputs": [],
   "source": [
    "#MUJERES\n",
    "pca = PCA(n_components=10)\n",
    "PCAFemale = pca.fit_transform(female)"
   ]
  },
  {
   "cell_type": "code",
   "execution_count": 28,
   "metadata": {},
   "outputs": [
    {
     "data": {
      "text/html": [
       "<div>\n",
       "<style scoped>\n",
       "    .dataframe tbody tr th:only-of-type {\n",
       "        vertical-align: middle;\n",
       "    }\n",
       "\n",
       "    .dataframe tbody tr th {\n",
       "        vertical-align: top;\n",
       "    }\n",
       "\n",
       "    .dataframe thead th {\n",
       "        text-align: right;\n",
       "    }\n",
       "</style>\n",
       "<table border=\"1\" class=\"dataframe\">\n",
       "  <thead>\n",
       "    <tr style=\"text-align: right;\">\n",
       "      <th></th>\n",
       "      <th>comp1</th>\n",
       "      <th>comp2</th>\n",
       "      <th>comp3</th>\n",
       "      <th>comp4</th>\n",
       "      <th>comp5</th>\n",
       "      <th>comp6</th>\n",
       "      <th>comp7</th>\n",
       "      <th>comp8</th>\n",
       "      <th>comp9</th>\n",
       "      <th>comp10</th>\n",
       "    </tr>\n",
       "  </thead>\n",
       "  <tbody>\n",
       "    <tr>\n",
       "      <th>0</th>\n",
       "      <td>3332.658797</td>\n",
       "      <td>-1571.427508</td>\n",
       "      <td>569.498922</td>\n",
       "      <td>-875.028442</td>\n",
       "      <td>-442.384967</td>\n",
       "      <td>-2619.423786</td>\n",
       "      <td>-344.317173</td>\n",
       "      <td>-1286.320821</td>\n",
       "      <td>60.251759</td>\n",
       "      <td>2003.010523</td>\n",
       "    </tr>\n",
       "    <tr>\n",
       "      <th>1</th>\n",
       "      <td>3375.603024</td>\n",
       "      <td>-2467.036414</td>\n",
       "      <td>-381.361540</td>\n",
       "      <td>6.202015</td>\n",
       "      <td>2807.441653</td>\n",
       "      <td>-598.126627</td>\n",
       "      <td>221.096831</td>\n",
       "      <td>-1047.188440</td>\n",
       "      <td>140.956029</td>\n",
       "      <td>1367.779816</td>\n",
       "    </tr>\n",
       "    <tr>\n",
       "      <th>2</th>\n",
       "      <td>-6429.357040</td>\n",
       "      <td>-3630.252199</td>\n",
       "      <td>-1362.103595</td>\n",
       "      <td>-354.267721</td>\n",
       "      <td>2386.927023</td>\n",
       "      <td>128.379729</td>\n",
       "      <td>884.070881</td>\n",
       "      <td>-2152.868045</td>\n",
       "      <td>-509.949973</td>\n",
       "      <td>516.014056</td>\n",
       "    </tr>\n",
       "    <tr>\n",
       "      <th>3</th>\n",
       "      <td>7957.378873</td>\n",
       "      <td>-1249.391673</td>\n",
       "      <td>-566.794250</td>\n",
       "      <td>-761.488111</td>\n",
       "      <td>1299.307411</td>\n",
       "      <td>-1110.461696</td>\n",
       "      <td>528.848247</td>\n",
       "      <td>-68.021144</td>\n",
       "      <td>1822.669372</td>\n",
       "      <td>864.208106</td>\n",
       "    </tr>\n",
       "    <tr>\n",
       "      <th>4</th>\n",
       "      <td>1624.824966</td>\n",
       "      <td>-1779.552152</td>\n",
       "      <td>-350.769145</td>\n",
       "      <td>-776.591591</td>\n",
       "      <td>-1361.591953</td>\n",
       "      <td>-1262.443205</td>\n",
       "      <td>-1309.652610</td>\n",
       "      <td>-772.185922</td>\n",
       "      <td>-345.794179</td>\n",
       "      <td>477.331343</td>\n",
       "    </tr>\n",
       "  </tbody>\n",
       "</table>\n",
       "</div>"
      ],
      "text/plain": [
       "         comp1        comp2        comp3       comp4        comp5  \\\n",
       "0  3332.658797 -1571.427508   569.498922 -875.028442  -442.384967   \n",
       "1  3375.603024 -2467.036414  -381.361540    6.202015  2807.441653   \n",
       "2 -6429.357040 -3630.252199 -1362.103595 -354.267721  2386.927023   \n",
       "3  7957.378873 -1249.391673  -566.794250 -761.488111  1299.307411   \n",
       "4  1624.824966 -1779.552152  -350.769145 -776.591591 -1361.591953   \n",
       "\n",
       "         comp6        comp7        comp8        comp9       comp10  \n",
       "0 -2619.423786  -344.317173 -1286.320821    60.251759  2003.010523  \n",
       "1  -598.126627   221.096831 -1047.188440   140.956029  1367.779816  \n",
       "2   128.379729   884.070881 -2152.868045  -509.949973   516.014056  \n",
       "3 -1110.461696   528.848247   -68.021144  1822.669372   864.208106  \n",
       "4 -1262.443205 -1309.652610  -772.185922  -345.794179   477.331343  "
      ]
     },
     "execution_count": 28,
     "metadata": {},
     "output_type": "execute_result"
    }
   ],
   "source": [
    "PCAFemale = pd.DataFrame(data=PCAFemale,\n",
    "                   columns=[\"comp1\",\"comp2\",\"comp3\",\"comp4\",\"comp5\",\n",
    "                            \"comp6\",\"comp7\",\"comp8\",\"comp9\",\"comp10\"])\n",
    "PCAFemale.head()"
   ]
  },
  {
   "cell_type": "code",
   "execution_count": 29,
   "metadata": {},
   "outputs": [],
   "source": [
    "#HOMBRES\n",
    "pca = PCA(n_components=10)\n",
    "PCAMale = pca.fit_transform(male)"
   ]
  },
  {
   "cell_type": "code",
   "execution_count": 30,
   "metadata": {},
   "outputs": [
    {
     "data": {
      "text/html": [
       "<div>\n",
       "<style scoped>\n",
       "    .dataframe tbody tr th:only-of-type {\n",
       "        vertical-align: middle;\n",
       "    }\n",
       "\n",
       "    .dataframe tbody tr th {\n",
       "        vertical-align: top;\n",
       "    }\n",
       "\n",
       "    .dataframe thead th {\n",
       "        text-align: right;\n",
       "    }\n",
       "</style>\n",
       "<table border=\"1\" class=\"dataframe\">\n",
       "  <thead>\n",
       "    <tr style=\"text-align: right;\">\n",
       "      <th></th>\n",
       "      <th>comp1</th>\n",
       "      <th>comp2</th>\n",
       "      <th>comp3</th>\n",
       "      <th>comp4</th>\n",
       "      <th>comp5</th>\n",
       "      <th>comp6</th>\n",
       "      <th>comp7</th>\n",
       "      <th>comp8</th>\n",
       "      <th>comp9</th>\n",
       "      <th>comp10</th>\n",
       "    </tr>\n",
       "  </thead>\n",
       "  <tbody>\n",
       "    <tr>\n",
       "      <th>0</th>\n",
       "      <td>2925.290478</td>\n",
       "      <td>420.238903</td>\n",
       "      <td>-2350.792845</td>\n",
       "      <td>-361.905277</td>\n",
       "      <td>-501.864253</td>\n",
       "      <td>1119.885685</td>\n",
       "      <td>620.993208</td>\n",
       "      <td>-237.458997</td>\n",
       "      <td>-620.808925</td>\n",
       "      <td>-55.949443</td>\n",
       "    </tr>\n",
       "    <tr>\n",
       "      <th>1</th>\n",
       "      <td>-1093.303275</td>\n",
       "      <td>-4949.874866</td>\n",
       "      <td>-3578.779888</td>\n",
       "      <td>1498.319540</td>\n",
       "      <td>-1242.512670</td>\n",
       "      <td>487.686835</td>\n",
       "      <td>-833.934190</td>\n",
       "      <td>839.997574</td>\n",
       "      <td>-771.468608</td>\n",
       "      <td>1960.369652</td>\n",
       "    </tr>\n",
       "    <tr>\n",
       "      <th>2</th>\n",
       "      <td>-2244.867709</td>\n",
       "      <td>3405.273167</td>\n",
       "      <td>941.848481</td>\n",
       "      <td>2645.450334</td>\n",
       "      <td>5472.047732</td>\n",
       "      <td>-1918.306599</td>\n",
       "      <td>2971.248007</td>\n",
       "      <td>985.379639</td>\n",
       "      <td>-1172.522282</td>\n",
       "      <td>1545.670469</td>\n",
       "    </tr>\n",
       "    <tr>\n",
       "      <th>3</th>\n",
       "      <td>-640.893722</td>\n",
       "      <td>-3573.628754</td>\n",
       "      <td>-593.127827</td>\n",
       "      <td>-3279.369753</td>\n",
       "      <td>220.802638</td>\n",
       "      <td>1385.725359</td>\n",
       "      <td>264.910276</td>\n",
       "      <td>669.462953</td>\n",
       "      <td>-2585.506865</td>\n",
       "      <td>427.723901</td>\n",
       "    </tr>\n",
       "    <tr>\n",
       "      <th>4</th>\n",
       "      <td>-2968.293045</td>\n",
       "      <td>3667.168588</td>\n",
       "      <td>2038.051167</td>\n",
       "      <td>-3445.821087</td>\n",
       "      <td>895.150299</td>\n",
       "      <td>4297.166467</td>\n",
       "      <td>2108.219486</td>\n",
       "      <td>-3245.873291</td>\n",
       "      <td>715.277693</td>\n",
       "      <td>60.548906</td>\n",
       "    </tr>\n",
       "  </tbody>\n",
       "</table>\n",
       "</div>"
      ],
      "text/plain": [
       "         comp1        comp2        comp3        comp4        comp5  \\\n",
       "0  2925.290478   420.238903 -2350.792845  -361.905277  -501.864253   \n",
       "1 -1093.303275 -4949.874866 -3578.779888  1498.319540 -1242.512670   \n",
       "2 -2244.867709  3405.273167   941.848481  2645.450334  5472.047732   \n",
       "3  -640.893722 -3573.628754  -593.127827 -3279.369753   220.802638   \n",
       "4 -2968.293045  3667.168588  2038.051167 -3445.821087   895.150299   \n",
       "\n",
       "         comp6        comp7        comp8        comp9       comp10  \n",
       "0  1119.885685   620.993208  -237.458997  -620.808925   -55.949443  \n",
       "1   487.686835  -833.934190   839.997574  -771.468608  1960.369652  \n",
       "2 -1918.306599  2971.248007   985.379639 -1172.522282  1545.670469  \n",
       "3  1385.725359   264.910276   669.462953 -2585.506865   427.723901  \n",
       "4  4297.166467  2108.219486 -3245.873291   715.277693    60.548906  "
      ]
     },
     "execution_count": 30,
     "metadata": {},
     "output_type": "execute_result"
    }
   ],
   "source": [
    "PCAMale = pd.DataFrame(data=PCAMale,\n",
    "                   columns=[\"comp1\",\"comp2\",\"comp3\",\"comp4\",\"comp5\",\n",
    "                            \"comp6\",\"comp7\",\"comp8\",\"comp9\",\"comp10\"])\n",
    "PCAMale.head()"
   ]
  },
  {
   "cell_type": "markdown",
   "metadata": {},
   "source": [
    "### 2.2 HOG\n",
    "\n",
    "En un vector para M y F"
   ]
  },
  {
   "cell_type": "code",
   "execution_count": 6,
   "metadata": {},
   "outputs": [],
   "source": [
    "def getHog(img):\n",
    "    hog = cv2.HOGDescriptor()\n",
    "    img = cv2.imread(img)\n",
    "    cv_gray = cv2.cvtColor(img,cv2.COLOR_BGR2GRAY)\n",
    "    fv = hog.compute(cv_gray)\n",
    "    return fv"
   ]
  },
  {
   "cell_type": "code",
   "execution_count": 23,
   "metadata": {},
   "outputs": [],
   "source": [
    "#MUJERES\n",
    "fem_HOG = []\n",
    "for image in mujeres:\n",
    "    vec = getHog('EG_F/'+image)\n",
    "    fem_HOG.append(vec)"
   ]
  },
  {
   "cell_type": "code",
   "execution_count": 24,
   "metadata": {
    "scrolled": true
   },
   "outputs": [
    {
     "data": {
      "text/plain": [
       "(399, 567000, 1)"
      ]
     },
     "execution_count": 24,
     "metadata": {},
     "output_type": "execute_result"
    }
   ],
   "source": [
    "fem_HOG = np.array(fem_HOG)\n",
    "#fem_HOG = fem_HOG[:,:,0]\n",
    "fem_HOG.shape"
   ]
  },
  {
   "cell_type": "code",
   "execution_count": 25,
   "metadata": {},
   "outputs": [],
   "source": [
    "#HOMBRES\n",
    "male_HOG = []\n",
    "for image in hombres:\n",
    "    vec = getHog('EG_M/'+image)\n",
    "    male_HOG.append(vec)"
   ]
  },
  {
   "cell_type": "code",
   "execution_count": 26,
   "metadata": {
    "scrolled": true
   },
   "outputs": [
    {
     "data": {
      "text/plain": [
       "(399, 567000, 1)"
      ]
     },
     "execution_count": 26,
     "metadata": {},
     "output_type": "execute_result"
    }
   ],
   "source": [
    "male_HOG = np.array(male_HOG)\n",
    "male_HOG.shape"
   ]
  },
  {
   "cell_type": "code",
   "execution_count": null,
   "metadata": {},
   "outputs": [],
   "source": []
  },
  {
   "cell_type": "code",
   "execution_count": 48,
   "metadata": {},
   "outputs": [
    {
     "data": {
      "text/plain": [
       "399"
      ]
     },
     "execution_count": 48,
     "metadata": {},
     "output_type": "execute_result"
    }
   ],
   "source": [
    "male_HOG = np.array(male_HOG)\n",
    "male_HOG = male_HOG[:,:,0]\n",
    "male_HOG.shape"
   ]
  },
  {
   "cell_type": "markdown",
   "metadata": {},
   "source": [
    "### 2.3 SIFT\n",
    "\n",
    "En carpetas"
   ]
  },
  {
   "cell_type": "markdown",
   "metadata": {},
   "source": [
    "### 2.4 SURF\n",
    "\n",
    "En carpetas"
   ]
  },
  {
   "cell_type": "code",
   "execution_count": null,
   "metadata": {},
   "outputs": [],
   "source": []
  }
 ],
 "metadata": {
  "kernelspec": {
   "display_name": "Python 3",
   "language": "python",
   "name": "python3"
  },
  "language_info": {
   "codemirror_mode": {
    "name": "ipython",
    "version": 3
   },
   "file_extension": ".py",
   "mimetype": "text/x-python",
   "name": "python",
   "nbconvert_exporter": "python",
   "pygments_lexer": "ipython3",
   "version": "3.7.3"
  }
 },
 "nbformat": 4,
 "nbformat_minor": 2
}
