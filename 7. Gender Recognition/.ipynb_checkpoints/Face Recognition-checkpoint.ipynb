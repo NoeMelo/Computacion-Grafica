{
 "cells": [
  {
   "cell_type": "code",
   "execution_count": 2,
   "metadata": {},
   "outputs": [],
   "source": [
    "%matplotlib inline\n",
    "import cv2\n",
    "from matplotlib import pyplot as plt\n",
    "import numpy as np\n",
    "import pandas as pd\n",
    "import os"
   ]
  },
  {
   "cell_type": "markdown",
   "metadata": {},
   "source": [
    "## 1. Escala de grises"
   ]
  },
  {
   "cell_type": "code",
   "execution_count": 3,
   "metadata": {},
   "outputs": [],
   "source": [
    "def graycolor(img):\n",
    "    image = cv2.imread(img)\n",
    "    cv_gray = cv2.cvtColor(image,cv2.COLOR_BGR2GRAY)\n",
    "    return cv_gray"
   ]
  },
  {
   "cell_type": "markdown",
   "metadata": {},
   "source": [
    "### Mujeres"
   ]
  },
  {
   "cell_type": "code",
   "execution_count": 9,
   "metadata": {},
   "outputs": [],
   "source": [
    "f_carpetas = os.listdir('faces/female')"
   ]
  },
  {
   "cell_type": "code",
   "execution_count": 42,
   "metadata": {},
   "outputs": [],
   "source": [
    "os.mkdir(\"EG_F\")"
   ]
  },
  {
   "cell_type": "code",
   "execution_count": 43,
   "metadata": {},
   "outputs": [],
   "source": [
    "path = \"EG_F/\"\n",
    "for carp in f_carpetas:\n",
    "    sub = os.listdir('faces/female/'+carp)\n",
    "    for img in sub:\n",
    "        file = 'faces/female/'+carp+\"/\"+img\n",
    "        try:\n",
    "            gray = graycolor(file)\n",
    "            cv2.imwrite(os.path.join(path , img), gray)\n",
    "            cv2.waitKey(0)\n",
    "        except:\n",
    "            continue"
   ]
  },
  {
   "cell_type": "code",
   "execution_count": 45,
   "metadata": {},
   "outputs": [
    {
     "data": {
      "text/plain": [
       "399"
      ]
     },
     "execution_count": 45,
     "metadata": {},
     "output_type": "execute_result"
    }
   ],
   "source": [
    "len(os.listdir(\"EG_F\"))"
   ]
  },
  {
   "cell_type": "markdown",
   "metadata": {},
   "source": [
    "### Hombres"
   ]
  },
  {
   "cell_type": "code",
   "execution_count": 4,
   "metadata": {},
   "outputs": [
    {
     "data": {
      "text/plain": [
       "113"
      ]
     },
     "execution_count": 4,
     "metadata": {},
     "output_type": "execute_result"
    }
   ],
   "source": [
    "m_carpetas = os.listdir('faces/male')\n",
    "len(m_carpetas)"
   ]
  },
  {
   "cell_type": "code",
   "execution_count": 51,
   "metadata": {},
   "outputs": [],
   "source": [
    "aleatorio = []\n",
    "while len(aleatorio) <20:\n",
    "    num = np.random.randint(113)\n",
    "    if num in aleatorio:\n",
    "        continue\n",
    "    else:\n",
    "        aleatorio.append(num)"
   ]
  },
  {
   "cell_type": "code",
   "execution_count": 52,
   "metadata": {},
   "outputs": [
    {
     "data": {
      "text/plain": [
       "20"
      ]
     },
     "execution_count": 52,
     "metadata": {},
     "output_type": "execute_result"
    }
   ],
   "source": [
    "len(aleatorio)"
   ]
  },
  {
   "cell_type": "code",
   "execution_count": 53,
   "metadata": {},
   "outputs": [],
   "source": [
    "os.mkdir(\"EG_M\")"
   ]
  },
  {
   "cell_type": "code",
   "execution_count": 54,
   "metadata": {},
   "outputs": [],
   "source": [
    "path = \"EG_M/\"\n",
    "for i in aleatorio:\n",
    "    carp = 'faces/male/'+ m_carpetas[i]\n",
    "    sub = os.listdir(carp)\n",
    "    for img in sub:\n",
    "        file = carp+\"/\"+img\n",
    "        try:\n",
    "            gray = graycolor(file)\n",
    "            cv2.imwrite(os.path.join(path , img), gray)\n",
    "            cv2.waitKey(0)\n",
    "            #print(file)\n",
    "        except:\n",
    "            continue"
   ]
  },
  {
   "cell_type": "code",
   "execution_count": 55,
   "metadata": {},
   "outputs": [
    {
     "data": {
      "text/plain": [
       "400"
      ]
     },
     "execution_count": 55,
     "metadata": {},
     "output_type": "execute_result"
    }
   ],
   "source": [
    "len(os.listdir(\"EG_M\"))"
   ]
  },
  {
   "cell_type": "markdown",
   "metadata": {},
   "source": [
    "## 2. Extraer Vectores Caracteristicos"
   ]
  },
  {
   "cell_type": "markdown",
   "metadata": {},
   "source": [
    "**accediendo a carpeta de trabajo**"
   ]
  },
  {
   "cell_type": "code",
   "execution_count": 2,
   "metadata": {},
   "outputs": [
    {
     "data": {
      "text/plain": [
       "['EG_F', 'EG_M', 'Hog', 'faces']"
      ]
     },
     "execution_count": 2,
     "metadata": {},
     "output_type": "execute_result"
    }
   ],
   "source": [
    "os.listdir(\"../databases\")"
   ]
  },
  {
   "cell_type": "code",
   "execution_count": 3,
   "metadata": {},
   "outputs": [
    {
     "data": {
      "text/plain": [
       "(None, ['EG_F', 'EG_M', 'Hog', 'faces'])"
      ]
     },
     "execution_count": 3,
     "metadata": {},
     "output_type": "execute_result"
    }
   ],
   "source": [
    "os.chdir(\"../databases\"), os.listdir()"
   ]
  },
  {
   "cell_type": "markdown",
   "metadata": {},
   "source": [
    "### 2.1 Concatenar\n",
    "\n",
    "En un vector para M y F"
   ]
  },
  {
   "cell_type": "code",
   "execution_count": 7,
   "metadata": {},
   "outputs": [],
   "source": [
    "def extraeVector(image):\n",
    "    img = cv2.imread(image)\n",
    "    cv_gray = cv2.cvtColor(img,cv2.COLOR_BGR2GRAY)\n",
    "    return list(cv_gray.ravel())"
   ]
  },
  {
   "cell_type": "markdown",
   "metadata": {},
   "source": [
    "#### Mujeses"
   ]
  },
  {
   "cell_type": "code",
   "execution_count": 4,
   "metadata": {},
   "outputs": [
    {
     "data": {
      "text/plain": [
       "399"
      ]
     },
     "execution_count": 4,
     "metadata": {},
     "output_type": "execute_result"
    }
   ],
   "source": [
    "mujeres = os.listdir(\"EG_F\")\n",
    "len(mujeres)"
   ]
  },
  {
   "cell_type": "code",
   "execution_count": 9,
   "metadata": {},
   "outputs": [],
   "source": [
    "female = []\n",
    "for image in mujeres:\n",
    "    vec = extraeVector('EG_F/'+image)\n",
    "    female.append(vec)"
   ]
  },
  {
   "cell_type": "code",
   "execution_count": 10,
   "metadata": {},
   "outputs": [
    {
     "data": {
      "text/plain": [
       "(399, 36000)"
      ]
     },
     "execution_count": 10,
     "metadata": {},
     "output_type": "execute_result"
    }
   ],
   "source": [
    "female = np.array(female)\n",
    "female.shape"
   ]
  },
  {
   "cell_type": "markdown",
   "metadata": {},
   "source": [
    "#### Hoombres"
   ]
  },
  {
   "cell_type": "code",
   "execution_count": 5,
   "metadata": {},
   "outputs": [
    {
     "data": {
      "text/plain": [
       "399"
      ]
     },
     "execution_count": 5,
     "metadata": {},
     "output_type": "execute_result"
    }
   ],
   "source": [
    "hombres = os.listdir(\"EG_M\")[:-1]\n",
    "len(hombres)"
   ]
  },
  {
   "cell_type": "code",
   "execution_count": 12,
   "metadata": {},
   "outputs": [],
   "source": [
    "male = []\n",
    "for image in hombres:\n",
    "    vec = extraeVector('EG_M/'+image)\n",
    "    male.append(vec)"
   ]
  },
  {
   "cell_type": "code",
   "execution_count": 13,
   "metadata": {},
   "outputs": [
    {
     "data": {
      "text/plain": [
       "(399, 36000)"
      ]
     },
     "execution_count": 13,
     "metadata": {},
     "output_type": "execute_result"
    }
   ],
   "source": [
    "male = np.array(male)\n",
    "male.shape"
   ]
  },
  {
   "cell_type": "markdown",
   "metadata": {},
   "source": [
    "#### 2.1.1 PCA"
   ]
  },
  {
   "cell_type": "code",
   "execution_count": 14,
   "metadata": {},
   "outputs": [],
   "source": [
    "from sklearn.decomposition import PCA"
   ]
  },
  {
   "cell_type": "code",
   "execution_count": 15,
   "metadata": {},
   "outputs": [],
   "source": [
    "#MUJERES\n",
    "pca = PCA(n_components=10)\n",
    "PCAFemale = pca.fit_transform(female)"
   ]
  },
  {
   "cell_type": "code",
   "execution_count": 16,
   "metadata": {},
   "outputs": [
    {
     "data": {
      "text/html": [
       "<div>\n",
       "<style scoped>\n",
       "    .dataframe tbody tr th:only-of-type {\n",
       "        vertical-align: middle;\n",
       "    }\n",
       "\n",
       "    .dataframe tbody tr th {\n",
       "        vertical-align: top;\n",
       "    }\n",
       "\n",
       "    .dataframe thead th {\n",
       "        text-align: right;\n",
       "    }\n",
       "</style>\n",
       "<table border=\"1\" class=\"dataframe\">\n",
       "  <thead>\n",
       "    <tr style=\"text-align: right;\">\n",
       "      <th></th>\n",
       "      <th>comp1</th>\n",
       "      <th>comp2</th>\n",
       "      <th>comp3</th>\n",
       "      <th>comp4</th>\n",
       "      <th>comp5</th>\n",
       "      <th>comp6</th>\n",
       "      <th>comp7</th>\n",
       "      <th>comp8</th>\n",
       "      <th>comp9</th>\n",
       "      <th>comp10</th>\n",
       "    </tr>\n",
       "  </thead>\n",
       "  <tbody>\n",
       "    <tr>\n",
       "      <th>0</th>\n",
       "      <td>3332.658797</td>\n",
       "      <td>-1571.427508</td>\n",
       "      <td>569.498921</td>\n",
       "      <td>-875.028444</td>\n",
       "      <td>-442.384966</td>\n",
       "      <td>-2619.423838</td>\n",
       "      <td>-344.317196</td>\n",
       "      <td>-1286.320936</td>\n",
       "      <td>60.252548</td>\n",
       "      <td>2003.012736</td>\n",
       "    </tr>\n",
       "    <tr>\n",
       "      <th>1</th>\n",
       "      <td>3375.603024</td>\n",
       "      <td>-2467.036414</td>\n",
       "      <td>-381.361538</td>\n",
       "      <td>6.202025</td>\n",
       "      <td>2807.441617</td>\n",
       "      <td>-598.126956</td>\n",
       "      <td>221.097276</td>\n",
       "      <td>-1047.190558</td>\n",
       "      <td>140.946255</td>\n",
       "      <td>1367.767043</td>\n",
       "    </tr>\n",
       "    <tr>\n",
       "      <th>2</th>\n",
       "      <td>-6429.357040</td>\n",
       "      <td>-3630.252199</td>\n",
       "      <td>-1362.103595</td>\n",
       "      <td>-354.267715</td>\n",
       "      <td>2386.927032</td>\n",
       "      <td>128.379549</td>\n",
       "      <td>884.071526</td>\n",
       "      <td>-2152.868232</td>\n",
       "      <td>-509.951895</td>\n",
       "      <td>516.006082</td>\n",
       "    </tr>\n",
       "    <tr>\n",
       "      <th>3</th>\n",
       "      <td>7957.378873</td>\n",
       "      <td>-1249.391673</td>\n",
       "      <td>-566.794251</td>\n",
       "      <td>-761.488113</td>\n",
       "      <td>1299.307416</td>\n",
       "      <td>-1110.461565</td>\n",
       "      <td>528.848087</td>\n",
       "      <td>-68.020410</td>\n",
       "      <td>1822.671284</td>\n",
       "      <td>864.210518</td>\n",
       "    </tr>\n",
       "    <tr>\n",
       "      <th>4</th>\n",
       "      <td>1624.824966</td>\n",
       "      <td>-1779.552152</td>\n",
       "      <td>-350.769143</td>\n",
       "      <td>-776.591574</td>\n",
       "      <td>-1361.591970</td>\n",
       "      <td>-1262.443450</td>\n",
       "      <td>-1309.651303</td>\n",
       "      <td>-772.186652</td>\n",
       "      <td>-345.804005</td>\n",
       "      <td>477.312084</td>\n",
       "    </tr>\n",
       "  </tbody>\n",
       "</table>\n",
       "</div>"
      ],
      "text/plain": [
       "         comp1        comp2        comp3       comp4        comp5  \\\n",
       "0  3332.658797 -1571.427508   569.498921 -875.028444  -442.384966   \n",
       "1  3375.603024 -2467.036414  -381.361538    6.202025  2807.441617   \n",
       "2 -6429.357040 -3630.252199 -1362.103595 -354.267715  2386.927032   \n",
       "3  7957.378873 -1249.391673  -566.794251 -761.488113  1299.307416   \n",
       "4  1624.824966 -1779.552152  -350.769143 -776.591574 -1361.591970   \n",
       "\n",
       "         comp6        comp7        comp8        comp9       comp10  \n",
       "0 -2619.423838  -344.317196 -1286.320936    60.252548  2003.012736  \n",
       "1  -598.126956   221.097276 -1047.190558   140.946255  1367.767043  \n",
       "2   128.379549   884.071526 -2152.868232  -509.951895   516.006082  \n",
       "3 -1110.461565   528.848087   -68.020410  1822.671284   864.210518  \n",
       "4 -1262.443450 -1309.651303  -772.186652  -345.804005   477.312084  "
      ]
     },
     "execution_count": 16,
     "metadata": {},
     "output_type": "execute_result"
    }
   ],
   "source": [
    "PCAFemale = pd.DataFrame(data=PCAFemale,\n",
    "                   columns=[\"comp1\",\"comp2\",\"comp3\",\"comp4\",\"comp5\",\n",
    "                            \"comp6\",\"comp7\",\"comp8\",\"comp9\",\"comp10\"])\n",
    "PCAFemale.head()"
   ]
  },
  {
   "cell_type": "code",
   "execution_count": 17,
   "metadata": {},
   "outputs": [],
   "source": [
    "#HOMBRES\n",
    "pca = PCA(n_components=10)\n",
    "PCAMale = pca.fit_transform(male)"
   ]
  },
  {
   "cell_type": "code",
   "execution_count": 18,
   "metadata": {},
   "outputs": [
    {
     "data": {
      "text/html": [
       "<div>\n",
       "<style scoped>\n",
       "    .dataframe tbody tr th:only-of-type {\n",
       "        vertical-align: middle;\n",
       "    }\n",
       "\n",
       "    .dataframe tbody tr th {\n",
       "        vertical-align: top;\n",
       "    }\n",
       "\n",
       "    .dataframe thead th {\n",
       "        text-align: right;\n",
       "    }\n",
       "</style>\n",
       "<table border=\"1\" class=\"dataframe\">\n",
       "  <thead>\n",
       "    <tr style=\"text-align: right;\">\n",
       "      <th></th>\n",
       "      <th>comp1</th>\n",
       "      <th>comp2</th>\n",
       "      <th>comp3</th>\n",
       "      <th>comp4</th>\n",
       "      <th>comp5</th>\n",
       "      <th>comp6</th>\n",
       "      <th>comp7</th>\n",
       "      <th>comp8</th>\n",
       "      <th>comp9</th>\n",
       "      <th>comp10</th>\n",
       "    </tr>\n",
       "  </thead>\n",
       "  <tbody>\n",
       "    <tr>\n",
       "      <th>0</th>\n",
       "      <td>2925.290478</td>\n",
       "      <td>420.238903</td>\n",
       "      <td>-2350.792841</td>\n",
       "      <td>-361.905468</td>\n",
       "      <td>-501.864950</td>\n",
       "      <td>1119.883543</td>\n",
       "      <td>620.995331</td>\n",
       "      <td>-237.479863</td>\n",
       "      <td>-620.765740</td>\n",
       "      <td>-55.996889</td>\n",
       "    </tr>\n",
       "    <tr>\n",
       "      <th>1</th>\n",
       "      <td>-1093.303275</td>\n",
       "      <td>-4949.874867</td>\n",
       "      <td>-3578.779879</td>\n",
       "      <td>1498.319461</td>\n",
       "      <td>-1242.512777</td>\n",
       "      <td>487.686908</td>\n",
       "      <td>-833.933390</td>\n",
       "      <td>839.994620</td>\n",
       "      <td>-771.451292</td>\n",
       "      <td>1960.352211</td>\n",
       "    </tr>\n",
       "    <tr>\n",
       "      <th>2</th>\n",
       "      <td>-2244.867709</td>\n",
       "      <td>3405.273167</td>\n",
       "      <td>941.848473</td>\n",
       "      <td>2645.450353</td>\n",
       "      <td>5472.047733</td>\n",
       "      <td>-1918.305834</td>\n",
       "      <td>2971.247879</td>\n",
       "      <td>985.382512</td>\n",
       "      <td>-1172.523848</td>\n",
       "      <td>1545.641532</td>\n",
       "    </tr>\n",
       "    <tr>\n",
       "      <th>3</th>\n",
       "      <td>-640.893722</td>\n",
       "      <td>-3573.628754</td>\n",
       "      <td>-593.127809</td>\n",
       "      <td>-3279.369843</td>\n",
       "      <td>220.802343</td>\n",
       "      <td>1385.721606</td>\n",
       "      <td>264.911401</td>\n",
       "      <td>669.443868</td>\n",
       "      <td>-2585.494080</td>\n",
       "      <td>427.768144</td>\n",
       "    </tr>\n",
       "    <tr>\n",
       "      <th>4</th>\n",
       "      <td>-2968.293045</td>\n",
       "      <td>3667.168584</td>\n",
       "      <td>2038.051202</td>\n",
       "      <td>-3445.821411</td>\n",
       "      <td>895.148996</td>\n",
       "      <td>4297.164550</td>\n",
       "      <td>2108.220282</td>\n",
       "      <td>-3245.916283</td>\n",
       "      <td>715.374229</td>\n",
       "      <td>60.445494</td>\n",
       "    </tr>\n",
       "  </tbody>\n",
       "</table>\n",
       "</div>"
      ],
      "text/plain": [
       "         comp1        comp2        comp3        comp4        comp5  \\\n",
       "0  2925.290478   420.238903 -2350.792841  -361.905468  -501.864950   \n",
       "1 -1093.303275 -4949.874867 -3578.779879  1498.319461 -1242.512777   \n",
       "2 -2244.867709  3405.273167   941.848473  2645.450353  5472.047733   \n",
       "3  -640.893722 -3573.628754  -593.127809 -3279.369843   220.802343   \n",
       "4 -2968.293045  3667.168584  2038.051202 -3445.821411   895.148996   \n",
       "\n",
       "         comp6        comp7        comp8        comp9       comp10  \n",
       "0  1119.883543   620.995331  -237.479863  -620.765740   -55.996889  \n",
       "1   487.686908  -833.933390   839.994620  -771.451292  1960.352211  \n",
       "2 -1918.305834  2971.247879   985.382512 -1172.523848  1545.641532  \n",
       "3  1385.721606   264.911401   669.443868 -2585.494080   427.768144  \n",
       "4  4297.164550  2108.220282 -3245.916283   715.374229    60.445494  "
      ]
     },
     "execution_count": 18,
     "metadata": {},
     "output_type": "execute_result"
    }
   ],
   "source": [
    "PCAMale = pd.DataFrame(data=PCAMale,\n",
    "                   columns=[\"comp1\",\"comp2\",\"comp3\",\"comp4\",\"comp5\",\n",
    "                            \"comp6\",\"comp7\",\"comp8\",\"comp9\",\"comp10\"])\n",
    "PCAMale.head()"
   ]
  },
  {
   "cell_type": "markdown",
   "metadata": {},
   "source": [
    "### 2.2 HOG\n",
    "\n",
    "En un vector para M y F"
   ]
  },
  {
   "cell_type": "code",
   "execution_count": 6,
   "metadata": {},
   "outputs": [],
   "source": [
    "def getHog(img):\n",
    "    hog = cv2.HOGDescriptor()\n",
    "    img = cv2.imread(img)\n",
    "    cv_gray = cv2.cvtColor(img,cv2.COLOR_BGR2GRAY)\n",
    "    fv = hog.compute(cv_gray)\n",
    "    return fv"
   ]
  },
  {
   "cell_type": "markdown",
   "metadata": {},
   "source": [
    "**MUJERES**"
   ]
  },
  {
   "cell_type": "code",
   "execution_count": 7,
   "metadata": {},
   "outputs": [],
   "source": [
    "fem_HOG = []\n",
    "for image in mujeres:\n",
    "    vec = getHog('EG_F/'+image)\n",
    "    fem_HOG.append(vec)"
   ]
  },
  {
   "cell_type": "code",
   "execution_count": 8,
   "metadata": {},
   "outputs": [
    {
     "data": {
      "text/plain": [
       "(399, 567000)"
      ]
     },
     "execution_count": 8,
     "metadata": {},
     "output_type": "execute_result"
    }
   ],
   "source": [
    "fem_HOG = np.array(fem_HOG)[:,:,0]\n",
    "fem_HOG.shape"
   ]
  },
  {
   "cell_type": "code",
   "execution_count": 10,
   "metadata": {},
   "outputs": [
    {
     "data": {
      "text/plain": [
       "array([[0.05096107, 0.10079551, 0.09052139, ..., 0.31633756, 0.31633756,\n",
       "        0.05407228],\n",
       "       [0.1692165 , 0.01800744, 0.04932511, ..., 0.19001985, 0.32638904,\n",
       "        0.26495665]], dtype=float32)"
      ]
     },
     "execution_count": 10,
     "metadata": {},
     "output_type": "execute_result"
    }
   ],
   "source": [
    "fem_HOG[0:2,:]"
   ]
  },
  {
   "cell_type": "markdown",
   "metadata": {},
   "source": [
    "**HOMBRES**"
   ]
  },
  {
   "cell_type": "code",
   "execution_count": 11,
   "metadata": {},
   "outputs": [],
   "source": [
    "male_HOG = []\n",
    "for image in hombres:\n",
    "    vec = getHog('EG_M/'+image)\n",
    "    male_HOG.append(vec)"
   ]
  },
  {
   "cell_type": "code",
   "execution_count": 12,
   "metadata": {
    "scrolled": true
   },
   "outputs": [
    {
     "data": {
      "text/plain": [
       "(399, 567000)"
      ]
     },
     "execution_count": 12,
     "metadata": {},
     "output_type": "execute_result"
    }
   ],
   "source": [
    "male_HOG = np.array(male_HOG)[:,:,0]\n",
    "male_HOG.shape"
   ]
  },
  {
   "cell_type": "markdown",
   "metadata": {},
   "source": [
    "**Guardar vectores**"
   ]
  },
  {
   "cell_type": "code",
   "execution_count": 13,
   "metadata": {},
   "outputs": [],
   "source": [
    "os.mkdir(\"FV_HOG\")"
   ]
  },
  {
   "cell_type": "code",
   "execution_count": 15,
   "metadata": {},
   "outputs": [
    {
     "name": "stdout",
     "output_type": "stream",
     "text": [
      "tipo:  <class 'numpy.ndarray'> <class 'numpy.ndarray'>\n"
     ]
    }
   ],
   "source": [
    "print(\"tipo: \",type(fem_HOG), type(male_HOG))"
   ]
  },
  {
   "cell_type": "code",
   "execution_count": 18,
   "metadata": {},
   "outputs": [],
   "source": [
    "np.save(\"FV_HOG/fem_HOG.npy\", fem_HOG)\n",
    "np.save(\"FV_HOG/male_HOG.npy\", male_HOG)"
   ]
  },
  {
   "cell_type": "markdown",
   "metadata": {},
   "source": [
    "### 2.3 SIFT\n",
    "\n",
    "En carpetas"
   ]
  },
  {
   "cell_type": "code",
   "execution_count": 31,
   "metadata": {},
   "outputs": [],
   "source": [
    "def getSift(img):\n",
    "    sift = cv2.xfeatures2d.SIFT_create()\n",
    "    img = cv2.imread(img)\n",
    "    cv_gray = cv2.cvtColor(img,cv2.COLOR_BGR2GRAY)\n",
    "    kp, des = sift.detectAndCompute(cv_gray,None)\n",
    "    return des"
   ]
  },
  {
   "cell_type": "code",
   "execution_count": 32,
   "metadata": {},
   "outputs": [],
   "source": [
    "os.mkdir(\"FV_SIFT\")\n",
    "os.mkdir(\"FV_SIFT/female\")\n",
    "os.mkdir(\"FV_SIFT/male\")"
   ]
  },
  {
   "cell_type": "markdown",
   "metadata": {},
   "source": [
    "**MUJERES**"
   ]
  },
  {
   "cell_type": "code",
   "execution_count": 61,
   "metadata": {},
   "outputs": [
    {
     "data": {
      "text/plain": [
       "(96, 128)"
      ]
     },
     "execution_count": 61,
     "metadata": {},
     "output_type": "execute_result"
    }
   ],
   "source": [
    "getSift(\"EG_F/\"+mujeres[1]).shape"
   ]
  },
  {
   "cell_type": "code",
   "execution_count": 53,
   "metadata": {},
   "outputs": [
    {
     "data": {
      "text/plain": [
       "'sbains.15'"
      ]
     },
     "execution_count": 53,
     "metadata": {},
     "output_type": "execute_result"
    }
   ],
   "source": [
    "\".\".join(mujeres[3].split(\".\")[:-1])"
   ]
  },
  {
   "cell_type": "code",
   "execution_count": 62,
   "metadata": {},
   "outputs": [],
   "source": [
    "for image in mujeres:\n",
    "    vec = getSift('EG_F/'+image)\n",
    "    name = \".\".join(image.split(\".\")[:-1])\n",
    "    np.save(\"FV_SIFT/female/\"+name+\".npy\", vec)#GUARDA"
   ]
  },
  {
   "cell_type": "code",
   "execution_count": 73,
   "metadata": {},
   "outputs": [
    {
     "data": {
      "text/plain": [
       "399"
      ]
     },
     "execution_count": 73,
     "metadata": {},
     "output_type": "execute_result"
    }
   ],
   "source": [
    "len(os.listdir(\"FV_SIFT/female\"))"
   ]
  },
  {
   "cell_type": "markdown",
   "metadata": {},
   "source": [
    "**HOMBRES**"
   ]
  },
  {
   "cell_type": "code",
   "execution_count": 63,
   "metadata": {},
   "outputs": [],
   "source": [
    "for image in hombres:\n",
    "    vec = getSift('EG_M/'+image)\n",
    "    name = \".\".join(image.split(\".\")[:-1])\n",
    "    np.save(\"FV_SIFT/male/\"+name+\".npy\", vec)#GUARDA"
   ]
  },
  {
   "cell_type": "code",
   "execution_count": 74,
   "metadata": {},
   "outputs": [
    {
     "data": {
      "text/plain": [
       "399"
      ]
     },
     "execution_count": 74,
     "metadata": {},
     "output_type": "execute_result"
    }
   ],
   "source": [
    "len(os.listdir(\"FV_SIFT/male\"))"
   ]
  },
  {
   "cell_type": "markdown",
   "metadata": {},
   "source": [
    "### 2.4 SURF\n",
    "\n",
    "En carpetas"
   ]
  },
  {
   "cell_type": "code",
   "execution_count": 68,
   "metadata": {},
   "outputs": [],
   "source": [
    "def getSurf(img):\n",
    "    surf = cv2.xfeatures2d_SURF.create(400)\n",
    "    img = cv2.imread(img)\n",
    "    cv_gray = cv2.cvtColor(img,cv2.COLOR_BGR2GRAY)\n",
    "    kp, des = surf.detectAndCompute(cv_gray,None)\n",
    "    return des"
   ]
  },
  {
   "cell_type": "code",
   "execution_count": 66,
   "metadata": {},
   "outputs": [],
   "source": [
    "os.mkdir(\"FV_SURF\")\n",
    "os.mkdir(\"FV_SURF/female\")\n",
    "os.mkdir(\"FV_SURF/male\")"
   ]
  },
  {
   "cell_type": "markdown",
   "metadata": {},
   "source": [
    "**MUJERES**"
   ]
  },
  {
   "cell_type": "code",
   "execution_count": 69,
   "metadata": {},
   "outputs": [],
   "source": [
    "for image in mujeres:\n",
    "    vec = getSurf('EG_F/'+image)\n",
    "    name = \".\".join(image.split(\".\")[:-1])\n",
    "    np.save(\"FV_SURF/female/\"+name+\".npy\", vec)#GUARDA"
   ]
  },
  {
   "cell_type": "code",
   "execution_count": 71,
   "metadata": {},
   "outputs": [
    {
     "data": {
      "text/plain": [
       "399"
      ]
     },
     "execution_count": 71,
     "metadata": {},
     "output_type": "execute_result"
    }
   ],
   "source": [
    "len(os.listdir(\"FV_SURF/female\"))"
   ]
  },
  {
   "cell_type": "markdown",
   "metadata": {},
   "source": [
    "**HOMBRES**"
   ]
  },
  {
   "cell_type": "code",
   "execution_count": 70,
   "metadata": {},
   "outputs": [],
   "source": [
    "for image in hombres:\n",
    "    vec = getSurf('EG_M/'+image)\n",
    "    name = \".\".join(image.split(\".\")[:-1])\n",
    "    np.save(\"FV_SURF/male/\"+name+\".npy\", vec)#GUARDA"
   ]
  },
  {
   "cell_type": "code",
   "execution_count": 72,
   "metadata": {},
   "outputs": [
    {
     "data": {
      "text/plain": [
       "399"
      ]
     },
     "execution_count": 72,
     "metadata": {},
     "output_type": "execute_result"
    }
   ],
   "source": [
    "len(os.listdir(\"FV_SURF/male\"))"
   ]
  },
  {
   "cell_type": "markdown",
   "metadata": {},
   "source": [
    "## 3. Features Vectors Intermediate"
   ]
  },
  {
   "cell_type": "code",
   "execution_count": 3,
   "metadata": {},
   "outputs": [
    {
     "data": {
      "text/plain": [
       "['FV_SIFT', 'FV_HOG', 'EG_F', 'EG_M', 'FV_SURF', 'Hog', 'faces']"
      ]
     },
     "execution_count": 3,
     "metadata": {},
     "output_type": "execute_result"
    }
   ],
   "source": [
    "os.listdir(\"../databases\")"
   ]
  },
  {
   "cell_type": "code",
   "execution_count": 4,
   "metadata": {},
   "outputs": [],
   "source": [
    "os.chdir(\"../databases\")"
   ]
  },
  {
   "cell_type": "markdown",
   "metadata": {},
   "source": [
    "### 3.1 k - means  - Bag of Visual Words(BoVW)"
   ]
  },
  {
   "cell_type": "code",
   "execution_count": 1,
   "metadata": {},
   "outputs": [],
   "source": [
    "from sklearn.cluster import KMeans"
   ]
  },
  {
   "cell_type": "markdown",
   "metadata": {},
   "source": [
    "### 3.1.1  SIFT"
   ]
  },
  {
   "cell_type": "code",
   "execution_count": 9,
   "metadata": {},
   "outputs": [
    {
     "data": {
      "text/plain": [
       "['male', 'female']"
      ]
     },
     "execution_count": 9,
     "metadata": {},
     "output_type": "execute_result"
    }
   ],
   "source": [
    "path = \"FV_SIFT\"\n",
    "os.listdir(path)"
   ]
  },
  {
   "cell_type": "markdown",
   "metadata": {},
   "source": [
    "**MUJERES**"
   ]
  },
  {
   "cell_type": "code",
   "execution_count": 10,
   "metadata": {},
   "outputs": [
    {
     "data": {
      "text/plain": [
       "399"
      ]
     },
     "execution_count": 10,
     "metadata": {},
     "output_type": "execute_result"
    }
   ],
   "source": [
    "sift_female = os.listdir(path+\"/female\")\n",
    "len(sift_female)"
   ]
  },
  {
   "cell_type": "code",
   "execution_count": 26,
   "metadata": {},
   "outputs": [
    {
     "data": {
      "text/plain": [
       "399"
      ]
     },
     "execution_count": 26,
     "metadata": {},
     "output_type": "execute_result"
    }
   ],
   "source": [
    "array_female = []\n",
    "for vector in sift_female:\n",
    "    array_female.append(np.load(path+\"/female/\"+vector))\n",
    "len(array_female)"
   ]
  },
  {
   "cell_type": "code",
   "execution_count": 27,
   "metadata": {},
   "outputs": [
    {
     "data": {
      "text/plain": [
       "(47896, 128)"
      ]
     },
     "execution_count": 27,
     "metadata": {},
     "output_type": "execute_result"
    }
   ],
   "source": [
    "array_female = np.concatenate(array_female,axis = 0)\n",
    "array_female.shape"
   ]
  },
  {
   "cell_type": "markdown",
   "metadata": {},
   "source": [
    "**HOMBRES**"
   ]
  },
  {
   "cell_type": "code",
   "execution_count": 28,
   "metadata": {},
   "outputs": [
    {
     "data": {
      "text/plain": [
       "399"
      ]
     },
     "execution_count": 28,
     "metadata": {},
     "output_type": "execute_result"
    }
   ],
   "source": [
    "sift_male = os.listdir(path+\"/male\")\n",
    "len(sift_male)"
   ]
  },
  {
   "cell_type": "code",
   "execution_count": 29,
   "metadata": {},
   "outputs": [
    {
     "data": {
      "text/plain": [
       "399"
      ]
     },
     "execution_count": 29,
     "metadata": {},
     "output_type": "execute_result"
    }
   ],
   "source": [
    "array_male = []\n",
    "for vector in sift_male:\n",
    "    array_male.append(np.load(path+\"/male/\"+vector))\n",
    "len(array_male)"
   ]
  },
  {
   "cell_type": "code",
   "execution_count": 30,
   "metadata": {},
   "outputs": [
    {
     "data": {
      "text/plain": [
       "(64310, 128)"
      ]
     },
     "execution_count": 30,
     "metadata": {},
     "output_type": "execute_result"
    }
   ],
   "source": [
    "array_male = np.concatenate(array_male,axis = 0)\n",
    "array_male.shape"
   ]
  },
  {
   "cell_type": "markdown",
   "metadata": {},
   "source": [
    "**UNION**"
   ]
  },
  {
   "cell_type": "code",
   "execution_count": 31,
   "metadata": {},
   "outputs": [
    {
     "data": {
      "text/plain": [
       "(112206, 128)"
      ]
     },
     "execution_count": 31,
     "metadata": {},
     "output_type": "execute_result"
    }
   ],
   "source": [
    "array_final = np.concatenate([array_female,array_male],axis = 0)\n",
    "array_final.shape"
   ]
  },
  {
   "cell_type": "markdown",
   "metadata": {},
   "source": [
    "**KMEANS**"
   ]
  },
  {
   "cell_type": "code",
   "execution_count": 32,
   "metadata": {},
   "outputs": [],
   "source": [
    "kmeans = KMeans(n_clusters=10).fit(array_final)"
   ]
  },
  {
   "cell_type": "code",
   "execution_count": 34,
   "metadata": {},
   "outputs": [
    {
     "data": {
      "text/plain": [
       "((112206,), (10, 128))"
      ]
     },
     "execution_count": 34,
     "metadata": {},
     "output_type": "execute_result"
    }
   ],
   "source": [
    "kmeans.labels_.shape,kmeans.cluster_centers_.shape"
   ]
  },
  {
   "cell_type": "code",
   "execution_count": 35,
   "metadata": {},
   "outputs": [
    {
     "data": {
      "text/plain": [
       "(61, 128)"
      ]
     },
     "execution_count": 35,
     "metadata": {},
     "output_type": "execute_result"
    }
   ],
   "source": [
    "prueba1 = np.load(path+\"/female/\"+sift_female[1])\n",
    "prueba1.shape"
   ]
  },
  {
   "cell_type": "code",
   "execution_count": 36,
   "metadata": {},
   "outputs": [
    {
     "data": {
      "text/plain": [
       "array([[ 31.,  32.,  18.,   1.,   2.,   2.,   0.,   2., 137., 137.,   6.,\n",
       "          0.,   0.,   0.,   0.,  16.,  62., 125.,  76.,  98.,  43.,   0.,\n",
       "          0.,   5.,  19.,   0.,   5.,  88., 103.,   2.,   2.,  40.,  65.,\n",
       "          2.,   0.,   0.,   2.,  12.,   7.,   9., 137.,  15.,   1.,   0.,\n",
       "          2.,   2.,   4.,  85.,  37.,  20.,  20.,  38.,  72.,  19.,   8.,\n",
       "         34., 137.,   1.,   3.,  38.,  41.,   2.,   1., 115.,  37.,   1.,\n",
       "          0.,   0.,   2.,  10.,   5.,   7., 137.,  29.,   1.,   1.,   4.,\n",
       "          1.,   1.,  13.,  45.,  13.,   1.,  12., 120.,  11.,   2.,   5.,\n",
       "        137.,   5.,   0.,   5.,  37.,   5.,   2., 102.,   2.,   0.,   0.,\n",
       "          0.,   0.,   0.,   0.,   0.,  22.,   1.,   0.,   0.,   0.,   0.,\n",
       "          0.,   1.,   8.,   2.,   0.,   6.,  21.,   0.,   0.,   0., 137.,\n",
       "          4.,   1.,   4.,   7.,   0.,   0.,  13.]], dtype=float32)"
      ]
     },
     "execution_count": 36,
     "metadata": {},
     "output_type": "execute_result"
    }
   ],
   "source": [
    "prueba1[:1,:]"
   ]
  },
  {
   "cell_type": "code",
   "execution_count": 42,
   "metadata": {},
   "outputs": [
    {
     "data": {
      "text/plain": [
       "8"
      ]
     },
     "execution_count": 42,
     "metadata": {},
     "output_type": "execute_result"
    }
   ],
   "source": [
    "kmeans.predict(prueba1[:1,:])[0]"
   ]
  },
  {
   "cell_type": "code",
   "execution_count": 209,
   "metadata": {},
   "outputs": [],
   "source": [
    "def vectorKmeans(array,kmeans):\n",
    "    row, col = array.shape\n",
    "    vector = np.zeros(100)#para SURF 100\n",
    "    for i in range(row):\n",
    "        k = kmeans.predict(array[i:i+1,:])[0]\n",
    "        vector[k]=vector[k]+1\n",
    "    return vector"
   ]
  },
  {
   "cell_type": "code",
   "execution_count": 52,
   "metadata": {},
   "outputs": [
    {
     "data": {
      "text/plain": [
       "(144, 128)"
      ]
     },
     "execution_count": 52,
     "metadata": {},
     "output_type": "execute_result"
    }
   ],
   "source": [
    "prueba2 = np.load(path+\"/female/\"+sift_female[2])\n",
    "prueba2.shape"
   ]
  },
  {
   "cell_type": "code",
   "execution_count": 82,
   "metadata": {
    "scrolled": false
   },
   "outputs": [
    {
     "data": {
      "text/plain": [
       "array([10., 30., 18., 16.,  4., 14., 21., 11., 13.,  7.])"
      ]
     },
     "execution_count": 82,
     "metadata": {},
     "output_type": "execute_result"
    }
   ],
   "source": [
    "vectorKmeans(prueba2,kmeans)"
   ]
  },
  {
   "cell_type": "markdown",
   "metadata": {},
   "source": [
    "**Vectores Kmeans - Mujeres**"
   ]
  },
  {
   "cell_type": "code",
   "execution_count": 67,
   "metadata": {},
   "outputs": [
    {
     "data": {
      "text/plain": [
       "399"
      ]
     },
     "execution_count": 67,
     "metadata": {},
     "output_type": "execute_result"
    }
   ],
   "source": [
    "female_sift_kmeans = []\n",
    "for vector in sift_female:\n",
    "    vec = np.load(path+\"/female/\"+vector)\n",
    "    female_sift_kmeans.append(vectorKmeans(vec,kmeans))\n",
    "len(female_sift_kmeans)"
   ]
  },
  {
   "cell_type": "code",
   "execution_count": 70,
   "metadata": {},
   "outputs": [
    {
     "data": {
      "text/plain": [
       "(399, 10)"
      ]
     },
     "execution_count": 70,
     "metadata": {},
     "output_type": "execute_result"
    }
   ],
   "source": [
    "female_sift_kmeans = np.array(female_sift_kmeans)\n",
    "female_sift_kmeans.shape"
   ]
  },
  {
   "cell_type": "markdown",
   "metadata": {},
   "source": [
    "**Vectores Kmeans - Hombres**"
   ]
  },
  {
   "cell_type": "code",
   "execution_count": 69,
   "metadata": {},
   "outputs": [
    {
     "data": {
      "text/plain": [
       "399"
      ]
     },
     "execution_count": 69,
     "metadata": {},
     "output_type": "execute_result"
    }
   ],
   "source": [
    "male_sift_kmeans = []\n",
    "for vector in sift_male:\n",
    "    vec = np.load(path+\"/male/\"+vector)\n",
    "    male_sift_kmeans.append(vectorKmeans(vec))\n",
    "len(male_sift_kmeans)"
   ]
  },
  {
   "cell_type": "code",
   "execution_count": 71,
   "metadata": {},
   "outputs": [
    {
     "data": {
      "text/plain": [
       "(399, 10)"
      ]
     },
     "execution_count": 71,
     "metadata": {},
     "output_type": "execute_result"
    }
   ],
   "source": [
    "male_sift_kmeans = np.array(male_sift_kmeans)\n",
    "male_sift_kmeans.shape"
   ]
  },
  {
   "cell_type": "markdown",
   "metadata": {},
   "source": [
    "### 3.1.2 SURF"
   ]
  },
  {
   "cell_type": "code",
   "execution_count": 72,
   "metadata": {},
   "outputs": [
    {
     "data": {
      "text/plain": [
       "['male', 'female']"
      ]
     },
     "execution_count": 72,
     "metadata": {},
     "output_type": "execute_result"
    }
   ],
   "source": [
    "path = \"FV_SURF\"\n",
    "os.listdir(path)"
   ]
  },
  {
   "cell_type": "markdown",
   "metadata": {},
   "source": [
    "**Mujeres**"
   ]
  },
  {
   "cell_type": "code",
   "execution_count": 73,
   "metadata": {},
   "outputs": [
    {
     "data": {
      "text/plain": [
       "399"
      ]
     },
     "execution_count": 73,
     "metadata": {},
     "output_type": "execute_result"
    }
   ],
   "source": [
    "surf_female = os.listdir(path+\"/female\")\n",
    "len(surf_female)"
   ]
  },
  {
   "cell_type": "code",
   "execution_count": 90,
   "metadata": {},
   "outputs": [
    {
     "data": {
      "text/plain": [
       "399"
      ]
     },
     "execution_count": 90,
     "metadata": {},
     "output_type": "execute_result"
    }
   ],
   "source": [
    "surf_array_female = []\n",
    "for vector in surf_female:\n",
    "    surf_array_female.append(np.load(path+\"/female/\"+vector))\n",
    "len(surf_array_female)"
   ]
  },
  {
   "cell_type": "code",
   "execution_count": 91,
   "metadata": {},
   "outputs": [
    {
     "data": {
      "text/plain": [
       "(34361, 64)"
      ]
     },
     "execution_count": 91,
     "metadata": {},
     "output_type": "execute_result"
    }
   ],
   "source": [
    "surf_array_female = np.concatenate(surf_array_female,axis = 0)\n",
    "surf_array_female.shape"
   ]
  },
  {
   "cell_type": "markdown",
   "metadata": {},
   "source": [
    "**Hombres**"
   ]
  },
  {
   "cell_type": "code",
   "execution_count": 92,
   "metadata": {},
   "outputs": [
    {
     "data": {
      "text/plain": [
       "399"
      ]
     },
     "execution_count": 92,
     "metadata": {},
     "output_type": "execute_result"
    }
   ],
   "source": [
    "surf_male = os.listdir(path+\"/male\")\n",
    "len(surf_male)"
   ]
  },
  {
   "cell_type": "code",
   "execution_count": 93,
   "metadata": {},
   "outputs": [
    {
     "data": {
      "text/plain": [
       "399"
      ]
     },
     "execution_count": 93,
     "metadata": {},
     "output_type": "execute_result"
    }
   ],
   "source": [
    "surf_array_male = []\n",
    "for vector in surf_male:\n",
    "    surf_array_male.append(np.load(path+\"/male/\"+vector))\n",
    "len(surf_array_male)"
   ]
  },
  {
   "cell_type": "code",
   "execution_count": 94,
   "metadata": {},
   "outputs": [
    {
     "data": {
      "text/plain": [
       "(45270, 64)"
      ]
     },
     "execution_count": 94,
     "metadata": {},
     "output_type": "execute_result"
    }
   ],
   "source": [
    "surf_array_male = np.concatenate(surf_array_male,axis = 0)\n",
    "surf_array_male.shape"
   ]
  },
  {
   "cell_type": "markdown",
   "metadata": {},
   "source": [
    "**UNION ARRAYS**"
   ]
  },
  {
   "cell_type": "code",
   "execution_count": 95,
   "metadata": {},
   "outputs": [
    {
     "data": {
      "text/plain": [
       "(79631, 64)"
      ]
     },
     "execution_count": 95,
     "metadata": {},
     "output_type": "execute_result"
    }
   ],
   "source": [
    "array_final_surf = np.concatenate([surf_array_female,surf_array_male],axis = 0)\n",
    "array_final_surf.shape"
   ]
  },
  {
   "cell_type": "markdown",
   "metadata": {},
   "source": [
    "**KMEANS**"
   ]
  },
  {
   "cell_type": "code",
   "execution_count": 207,
   "metadata": {},
   "outputs": [
    {
     "data": {
      "text/plain": [
       "((79631,), (100, 64))"
      ]
     },
     "execution_count": 207,
     "metadata": {},
     "output_type": "execute_result"
    }
   ],
   "source": [
    "kmeans_SURF = KMeans(n_clusters=100).fit(array_final_surf)\n",
    "kmeans_SURF.labels_.shape,kmeans_SURF.cluster_centers_.shape"
   ]
  },
  {
   "cell_type": "markdown",
   "metadata": {},
   "source": [
    "**Kmeans -Mujeres**"
   ]
  },
  {
   "cell_type": "code",
   "execution_count": 210,
   "metadata": {},
   "outputs": [
    {
     "data": {
      "text/plain": [
       "399"
      ]
     },
     "execution_count": 210,
     "metadata": {},
     "output_type": "execute_result"
    }
   ],
   "source": [
    "female_surf_kmeans = []\n",
    "for vector in surf_female:\n",
    "    vec = np.load(path+\"/female/\"+vector)\n",
    "    female_surf_kmeans.append(vectorKmeans(vec,kmeans_SURF))\n",
    "len(female_surf_kmeans)"
   ]
  },
  {
   "cell_type": "code",
   "execution_count": 211,
   "metadata": {},
   "outputs": [
    {
     "data": {
      "text/plain": [
       "(399, 100)"
      ]
     },
     "execution_count": 211,
     "metadata": {},
     "output_type": "execute_result"
    }
   ],
   "source": [
    "female_surf_kmeans = np.array(female_surf_kmeans)\n",
    "female_surf_kmeans.shape"
   ]
  },
  {
   "cell_type": "markdown",
   "metadata": {},
   "source": [
    "**Kmeans - Hombres**"
   ]
  },
  {
   "cell_type": "code",
   "execution_count": 212,
   "metadata": {},
   "outputs": [
    {
     "data": {
      "text/plain": [
       "399"
      ]
     },
     "execution_count": 212,
     "metadata": {},
     "output_type": "execute_result"
    }
   ],
   "source": [
    "male_surf_kmeans = []\n",
    "for vector in surf_male:\n",
    "    vec = np.load(path+\"/male/\"+vector)\n",
    "    male_surf_kmeans.append(vectorKmeans(vec,kmeans_SURF))\n",
    "len(male_surf_kmeans)"
   ]
  },
  {
   "cell_type": "code",
   "execution_count": 213,
   "metadata": {},
   "outputs": [
    {
     "data": {
      "text/plain": [
       "(399, 100)"
      ]
     },
     "execution_count": 213,
     "metadata": {},
     "output_type": "execute_result"
    }
   ],
   "source": [
    "male_surf_kmeans = np.array(male_surf_kmeans)\n",
    "male_surf_kmeans.shape"
   ]
  },
  {
   "cell_type": "markdown",
   "metadata": {},
   "source": [
    "## 4 Moldelado"
   ]
  },
  {
   "cell_type": "markdown",
   "metadata": {},
   "source": [
    "### 4.1 SVM"
   ]
  },
  {
   "cell_type": "code",
   "execution_count": 101,
   "metadata": {},
   "outputs": [],
   "source": [
    "import pandas as pd"
   ]
  },
  {
   "cell_type": "markdown",
   "metadata": {},
   "source": [
    "**Data Mujeres con SURF**"
   ]
  },
  {
   "cell_type": "code",
   "execution_count": 214,
   "metadata": {},
   "outputs": [
    {
     "data": {
      "text/html": [
       "<div>\n",
       "<style scoped>\n",
       "    .dataframe tbody tr th:only-of-type {\n",
       "        vertical-align: middle;\n",
       "    }\n",
       "\n",
       "    .dataframe tbody tr th {\n",
       "        vertical-align: top;\n",
       "    }\n",
       "\n",
       "    .dataframe thead th {\n",
       "        text-align: right;\n",
       "    }\n",
       "</style>\n",
       "<table border=\"1\" class=\"dataframe\">\n",
       "  <thead>\n",
       "    <tr style=\"text-align: right;\">\n",
       "      <th></th>\n",
       "      <th>nombre</th>\n",
       "      <th>data</th>\n",
       "      <th>target</th>\n",
       "    </tr>\n",
       "  </thead>\n",
       "  <tbody>\n",
       "    <tr>\n",
       "      <th>0</th>\n",
       "      <td>sbains.19.npy</td>\n",
       "      <td>[1.0, 0.0, 0.0, 0.0, 0.0, 0.0, 0.0, 0.0, 1.0, ...</td>\n",
       "      <td>0</td>\n",
       "    </tr>\n",
       "    <tr>\n",
       "      <th>1</th>\n",
       "      <td>mbutle.2.npy</td>\n",
       "      <td>[0.0, 0.0, 0.0, 0.0, 1.0, 0.0, 0.0, 0.0, 2.0, ...</td>\n",
       "      <td>0</td>\n",
       "    </tr>\n",
       "    <tr>\n",
       "      <th>2</th>\n",
       "      <td>9338535.10.npy</td>\n",
       "      <td>[1.0, 0.0, 0.0, 1.0, 1.0, 1.0, 1.0, 0.0, 4.0, ...</td>\n",
       "      <td>0</td>\n",
       "    </tr>\n",
       "  </tbody>\n",
       "</table>\n",
       "</div>"
      ],
      "text/plain": [
       "           nombre                                               data  target\n",
       "0   sbains.19.npy  [1.0, 0.0, 0.0, 0.0, 0.0, 0.0, 0.0, 0.0, 1.0, ...       0\n",
       "1    mbutle.2.npy  [0.0, 0.0, 0.0, 0.0, 1.0, 0.0, 0.0, 0.0, 2.0, ...       0\n",
       "2  9338535.10.npy  [1.0, 0.0, 0.0, 1.0, 1.0, 1.0, 1.0, 0.0, 4.0, ...       0"
      ]
     },
     "execution_count": 214,
     "metadata": {},
     "output_type": "execute_result"
    }
   ],
   "source": [
    "df_mujeres = pd.DataFrame()\n",
    "df_mujeres[\"nombre\"] = surf_female\n",
    "df_mujeres[\"data\"] = list(female_surf_kmeans)\n",
    "df_mujeres[\"target\"] = 0\n",
    "df_mujeres.head(3)"
   ]
  },
  {
   "cell_type": "code",
   "execution_count": 108,
   "metadata": {},
   "outputs": [],
   "source": [
    "#df_female_surf_kmeans = pd.DataFrame(data=female_surf_kmeans,\n",
    "#                   columns=[\"centroid1\",\"centroid2\",\"centroid3\",\"centroid4\",\"centroid5\",\n",
    "#                            \"centroid6\",\"centroid7\",\"centroid8\",\"centroid9\",\"centroid10\"])\n",
    "#df_female_surf_kmeans.head()"
   ]
  },
  {
   "cell_type": "markdown",
   "metadata": {},
   "source": [
    "**Data Hombres con SURF**"
   ]
  },
  {
   "cell_type": "code",
   "execution_count": 215,
   "metadata": {},
   "outputs": [
    {
     "data": {
      "text/html": [
       "<div>\n",
       "<style scoped>\n",
       "    .dataframe tbody tr th:only-of-type {\n",
       "        vertical-align: middle;\n",
       "    }\n",
       "\n",
       "    .dataframe tbody tr th {\n",
       "        vertical-align: top;\n",
       "    }\n",
       "\n",
       "    .dataframe thead th {\n",
       "        text-align: right;\n",
       "    }\n",
       "</style>\n",
       "<table border=\"1\" class=\"dataframe\">\n",
       "  <thead>\n",
       "    <tr style=\"text-align: right;\">\n",
       "      <th></th>\n",
       "      <th>nombre</th>\n",
       "      <th>data</th>\n",
       "      <th>target</th>\n",
       "    </tr>\n",
       "  </thead>\n",
       "  <tbody>\n",
       "    <tr>\n",
       "      <th>0</th>\n",
       "      <td>dakram.7.npy</td>\n",
       "      <td>[2.0, 1.0, 3.0, 1.0, 6.0, 1.0, 0.0, 4.0, 0.0, ...</td>\n",
       "      <td>1</td>\n",
       "    </tr>\n",
       "    <tr>\n",
       "      <th>1</th>\n",
       "      <td>rarobi.13.npy</td>\n",
       "      <td>[0.0, 0.0, 1.0, 3.0, 2.0, 2.0, 0.0, 0.0, 0.0, ...</td>\n",
       "      <td>1</td>\n",
       "    </tr>\n",
       "    <tr>\n",
       "      <th>2</th>\n",
       "      <td>mefait.16.npy</td>\n",
       "      <td>[0.0, 2.0, 1.0, 1.0, 1.0, 1.0, 0.0, 0.0, 0.0, ...</td>\n",
       "      <td>1</td>\n",
       "    </tr>\n",
       "  </tbody>\n",
       "</table>\n",
       "</div>"
      ],
      "text/plain": [
       "          nombre                                               data  target\n",
       "0   dakram.7.npy  [2.0, 1.0, 3.0, 1.0, 6.0, 1.0, 0.0, 4.0, 0.0, ...       1\n",
       "1  rarobi.13.npy  [0.0, 0.0, 1.0, 3.0, 2.0, 2.0, 0.0, 0.0, 0.0, ...       1\n",
       "2  mefait.16.npy  [0.0, 2.0, 1.0, 1.0, 1.0, 1.0, 0.0, 0.0, 0.0, ...       1"
      ]
     },
     "execution_count": 215,
     "metadata": {},
     "output_type": "execute_result"
    }
   ],
   "source": [
    "df_hombres = pd.DataFrame()\n",
    "df_hombres[\"nombre\"] = surf_male\n",
    "df_hombres[\"data\"] = list(male_surf_kmeans)\n",
    "df_hombres[\"target\"] = 1\n",
    "df_hombres.head(3)"
   ]
  },
  {
   "cell_type": "code",
   "execution_count": 216,
   "metadata": {},
   "outputs": [
    {
     "data": {
      "text/html": [
       "<div>\n",
       "<style scoped>\n",
       "    .dataframe tbody tr th:only-of-type {\n",
       "        vertical-align: middle;\n",
       "    }\n",
       "\n",
       "    .dataframe tbody tr th {\n",
       "        vertical-align: top;\n",
       "    }\n",
       "\n",
       "    .dataframe thead th {\n",
       "        text-align: right;\n",
       "    }\n",
       "</style>\n",
       "<table border=\"1\" class=\"dataframe\">\n",
       "  <thead>\n",
       "    <tr style=\"text-align: right;\">\n",
       "      <th></th>\n",
       "      <th>nombre</th>\n",
       "      <th>data</th>\n",
       "      <th>target</th>\n",
       "    </tr>\n",
       "  </thead>\n",
       "  <tbody>\n",
       "    <tr>\n",
       "      <th>0</th>\n",
       "      <td>sbains.19.npy</td>\n",
       "      <td>[1.0, 0.0, 0.0, 0.0, 0.0, 0.0, 0.0, 0.0, 1.0, ...</td>\n",
       "      <td>0</td>\n",
       "    </tr>\n",
       "    <tr>\n",
       "      <th>1</th>\n",
       "      <td>mbutle.2.npy</td>\n",
       "      <td>[0.0, 0.0, 0.0, 0.0, 1.0, 0.0, 0.0, 0.0, 2.0, ...</td>\n",
       "      <td>0</td>\n",
       "    </tr>\n",
       "    <tr>\n",
       "      <th>2</th>\n",
       "      <td>9338535.10.npy</td>\n",
       "      <td>[1.0, 0.0, 0.0, 1.0, 1.0, 1.0, 1.0, 0.0, 4.0, ...</td>\n",
       "      <td>0</td>\n",
       "    </tr>\n",
       "    <tr>\n",
       "      <th>3</th>\n",
       "      <td>9336923.14.npy</td>\n",
       "      <td>[0.0, 4.0, 1.0, 0.0, 0.0, 1.0, 0.0, 0.0, 2.0, ...</td>\n",
       "      <td>0</td>\n",
       "    </tr>\n",
       "    <tr>\n",
       "      <th>4</th>\n",
       "      <td>kaknig.4.npy</td>\n",
       "      <td>[1.0, 2.0, 0.0, 1.0, 2.0, 1.0, 2.0, 1.0, 1.0, ...</td>\n",
       "      <td>0</td>\n",
       "    </tr>\n",
       "  </tbody>\n",
       "</table>\n",
       "</div>"
      ],
      "text/plain": [
       "           nombre                                               data  target\n",
       "0   sbains.19.npy  [1.0, 0.0, 0.0, 0.0, 0.0, 0.0, 0.0, 0.0, 1.0, ...       0\n",
       "1    mbutle.2.npy  [0.0, 0.0, 0.0, 0.0, 1.0, 0.0, 0.0, 0.0, 2.0, ...       0\n",
       "2  9338535.10.npy  [1.0, 0.0, 0.0, 1.0, 1.0, 1.0, 1.0, 0.0, 4.0, ...       0\n",
       "3  9336923.14.npy  [0.0, 4.0, 1.0, 0.0, 0.0, 1.0, 0.0, 0.0, 2.0, ...       0\n",
       "4    kaknig.4.npy  [1.0, 2.0, 0.0, 1.0, 2.0, 1.0, 2.0, 1.0, 1.0, ...       0"
      ]
     },
     "execution_count": 216,
     "metadata": {},
     "output_type": "execute_result"
    }
   ],
   "source": [
    "data_gender = pd.concat([df_mujeres,df_hombres])\n",
    "data_gender.head()"
   ]
  },
  {
   "cell_type": "code",
   "execution_count": 217,
   "metadata": {},
   "outputs": [
    {
     "data": {
      "text/plain": [
       "target\n",
       "0    399\n",
       "1    399\n",
       "dtype: int64"
      ]
     },
     "execution_count": 217,
     "metadata": {},
     "output_type": "execute_result"
    }
   ],
   "source": [
    "data_gender.groupby(\"target\").size()"
   ]
  },
  {
   "cell_type": "markdown",
   "metadata": {},
   "source": [
    "**Train Test**"
   ]
  },
  {
   "cell_type": "code",
   "execution_count": 114,
   "metadata": {},
   "outputs": [],
   "source": [
    "from sklearn import svm\n",
    "from sklearn.model_selection import train_test_split"
   ]
  },
  {
   "cell_type": "code",
   "execution_count": 218,
   "metadata": {},
   "outputs": [],
   "source": [
    "X = np.stack(data_gender.data,axis=0)\n",
    "Y = data_gender.target"
   ]
  },
  {
   "cell_type": "code",
   "execution_count": 167,
   "metadata": {},
   "outputs": [],
   "source": [
    "#type(X.as_matrix())"
   ]
  },
  {
   "cell_type": "code",
   "execution_count": 219,
   "metadata": {},
   "outputs": [],
   "source": [
    "X_train,X_test,Y_train,Y_test = train_test_split(X,Y,test_size=0.20,random_state=42)"
   ]
  },
  {
   "cell_type": "code",
   "execution_count": 220,
   "metadata": {},
   "outputs": [
    {
     "data": {
      "text/plain": [
       "((638, 100), (638,))"
      ]
     },
     "execution_count": 220,
     "metadata": {},
     "output_type": "execute_result"
    }
   ],
   "source": [
    "X_train.shape,Y_train.shape"
   ]
  },
  {
   "cell_type": "code",
   "execution_count": 221,
   "metadata": {},
   "outputs": [
    {
     "data": {
      "text/plain": [
       "((160, 100), (160,))"
      ]
     },
     "execution_count": 221,
     "metadata": {},
     "output_type": "execute_result"
    }
   ],
   "source": [
    "X_test.shape,Y_test.shape"
   ]
  },
  {
   "cell_type": "code",
   "execution_count": 171,
   "metadata": {},
   "outputs": [],
   "source": [
    "#np.array(X_train)"
   ]
  },
  {
   "cell_type": "markdown",
   "metadata": {},
   "source": [
    "**Modelado**"
   ]
  },
  {
   "cell_type": "code",
   "execution_count": 172,
   "metadata": {},
   "outputs": [],
   "source": [
    "clasificador = svm.SVC()"
   ]
  },
  {
   "cell_type": "code",
   "execution_count": 222,
   "metadata": {},
   "outputs": [
    {
     "data": {
      "text/plain": [
       "SVC(C=100, cache_size=200, class_weight=None, coef0=0.0,\n",
       "    decision_function_shape='ovr', degree=3, gamma=0.0001, kernel='rbf',\n",
       "    max_iter=-1, probability=False, random_state=None, shrinking=True,\n",
       "    tol=0.001, verbose=False)"
      ]
     },
     "execution_count": 222,
     "metadata": {},
     "output_type": "execute_result"
    }
   ],
   "source": [
    "clasificador.fit(X_train,Y_train)"
   ]
  },
  {
   "cell_type": "code",
   "execution_count": 223,
   "metadata": {},
   "outputs": [],
   "source": [
    "Y_pred = clasificador.predict(X_test)"
   ]
  },
  {
   "cell_type": "code",
   "execution_count": 224,
   "metadata": {},
   "outputs": [
    {
     "data": {
      "text/plain": [
       "320    1\n",
       "Name: target, dtype: int64"
      ]
     },
     "execution_count": 224,
     "metadata": {},
     "output_type": "execute_result"
    }
   ],
   "source": [
    "Y_test[23:24]"
   ]
  },
  {
   "cell_type": "code",
   "execution_count": 225,
   "metadata": {},
   "outputs": [],
   "source": [
    "#data_gender.loc[:,2]"
   ]
  },
  {
   "cell_type": "code",
   "execution_count": 226,
   "metadata": {},
   "outputs": [
    {
     "data": {
      "text/plain": [
       "0"
      ]
     },
     "execution_count": 226,
     "metadata": {},
     "output_type": "execute_result"
    }
   ],
   "source": [
    "Y_pred[23]"
   ]
  },
  {
   "cell_type": "code",
   "execution_count": 227,
   "metadata": {},
   "outputs": [
    {
     "data": {
      "text/plain": [
       "0.9875"
      ]
     },
     "execution_count": 227,
     "metadata": {},
     "output_type": "execute_result"
    }
   ],
   "source": [
    "from sklearn.metrics import accuracy_score\n",
    "\n",
    "accuracy_score(Y_test, Y_pred)"
   ]
  },
  {
   "cell_type": "code",
   "execution_count": 193,
   "metadata": {},
   "outputs": [
    {
     "data": {
      "text/plain": [
       "array([[68, 12],\n",
       "       [18, 62]])"
      ]
     },
     "execution_count": 193,
     "metadata": {},
     "output_type": "execute_result"
    }
   ],
   "source": [
    "from sklearn.metrics import confusion_matrix,classification_report\n",
    "confusion_matrix(Y_test,Y_pred)"
   ]
  },
  {
   "cell_type": "code",
   "execution_count": 187,
   "metadata": {},
   "outputs": [],
   "source": [
    "clasificador = svm.SVC(gamma=0.0001,C=100)"
   ]
  },
  {
   "cell_type": "code",
   "execution_count": null,
   "metadata": {},
   "outputs": [],
   "source": []
  }
 ],
 "metadata": {
  "kernelspec": {
   "display_name": "Python 3",
   "language": "python",
   "name": "python3"
  },
  "language_info": {
   "codemirror_mode": {
    "name": "ipython",
    "version": 3
   },
   "file_extension": ".py",
   "mimetype": "text/x-python",
   "name": "python",
   "nbconvert_exporter": "python",
   "pygments_lexer": "ipython3",
   "version": "3.7.3"
  }
 },
 "nbformat": 4,
 "nbformat_minor": 2
}
